{
 "cells": [
  {
   "cell_type": "markdown",
   "metadata": {},
   "source": [
    "<img src=\"https://cf-courses-data.s3.us.cloud-object-storage.appdomain.cloud/IBMDeveloperSkillsNetwork-DL0120EN-SkillsNetwork/images/IDSN-logo.png\" width=\"300\" alt=\"cognitiveclass.ai logo\">\n",
    "\n",
    "<h1 align=\"center\"><font size=\"5\">RESTRICTED BOLTZMANN MACHINES</font></h1>\n"
   ]
  },
  {
   "cell_type": "markdown",
   "metadata": {},
   "source": [
    "Estimated time needed: **25** minutes\n"
   ]
  },
  {
   "cell_type": "markdown",
   "metadata": {},
   "source": [
    "<h3>Introduction</h3>\n",
    "<b>Restricted Boltzmann Machine (RBM):</b>  RBMs are shallow neural nets that learn to reconstruct data by themselves in an unsupervised fashion.  \n",
    "\n",
    "\n",
    "<h4>Why are RBMs important?</h4>\n",
    "An RBM are a basic form of autoencoder.  It can automatically extract <b>meaningful</b> features from a given input.\n",
    "\n",
    "\n",
    "<h4>How does it work?</h4>\n",
    "RBM is a 2 layer neural network. Simply, RBM takes the inputs and translates those into a set of binary values that represents them in the hidden layer. Then, these numbers can be translated back to reconstruct the inputs. Through several forward and backward passes, the RBM will be trained, and a trained RBM can reveal which features are the most important ones when detecting patterns.   \n",
    "\n",
    "\n",
    "<h4>What are the applications of an RBM?</h4>\n",
    "RBM is useful for <a href='http://www.cs.utoronto.ca/~hinton/absps/netflixICML.pdf?utm_medium=Exinfluencer&utm_source=Exinfluencer&utm_content=000026UJ&utm_term=10006555&utm_id=NA-SkillsNetwork-Channel-SkillsNetworkCoursesIBMDeveloperSkillsNetworkDL0120ENSkillsNetwork954-2022-01-01'>  Collaborative Filtering</a>, dimensionality reduction, classification, regression, feature learning, topic modeling and even <b>Deep Belief Networks</b>.\n",
    "\n",
    "<h4>Is RBM a generative or Discriminative model?</h4>\n",
    "RBM is a generative model. Let me explain it by first, see what is different between discriminative and generative models: \n",
    "\n",
    "<b>Discriminative:</b> Consider a classification problem where we want to learn to distinguish between Sedan cars (y = 1) and SUV cars (y = 0), based on some features of cars. Given a training set, an algorithm like logistic regression tries to find a straight line, or <i>decision boundary</i>, that separates the suv and sedan.  \n",
    "\n",
    "<b>Generative:</b> looking at cars, we can build a model of what Sedan cars look like. Then, looking at SUVs, we can build a separate model of what SUV cars look like. Finally, to classify a new car, we can match the new car against the Sedan model, and match it against the SUV model, to see whether the new car looks more like the SUV or Sedan. \n",
    "\n",
    "Generative Models specify a probability distribution over a dataset of input vectors. We can carry out both supervised and unsupervised tasks with generative models:\n",
    "<ul>\n",
    "    <li>In an unsupervised task, we try to form a model for $P(x)$, where $P$ is the probability given $x$ as an input vector.</li>\n",
    "    <li>In the supervised task, we first form a model for $P(x|y)$, where $P$ is the probability of $x$ given $y$(the label for $x$). For example, if $y = 0$ indicates that a car is an SUV, and $y = 1$ indicates that a car is a sedan, then $p(x|y = 0)$ models the distribution of SUV features, and $p(x|y = 1)$ models the distribution of sedan features. If we manage to find $P(x|y)$ and $P(y)$, then we can use <b>Bayes rule</b> to estimate $P(y|x)$, because:   \n",
    "        $$p(y|x) = \\frac{p(x|y)p(y)}{p(x)}$$</li>\n",
    "</ul>\n",
    "Now the question is, can we build a generative model, and then use it to create synthetic data by directly sampling from the modeled probability distributions? Lets see. \n"
   ]
  },
  {
   "cell_type": "markdown",
   "metadata": {},
   "source": [
    "<h2>Table of Contents</h2>\n",
    "<ol>\n",
    "    <li><a href=\"#ref1\">Initialization</a></li>\n",
    "    <li><a href=\"#ref2\">RBM layers</a></li>\n",
    "    <li><a href=\"#ref3\">What RBM can do after training?</a></li>\n",
    "    <li><a href=\"#ref4\">How to train the model?</a></li>\n",
    "    <li><a href=\"#ref5\">Learned features</a></li>\n",
    "</ol>\n",
    "<p></p>\n",
    "</div>\n",
    "<br>\n",
    "\n",
    "<hr>\n"
   ]
  },
  {
   "cell_type": "markdown",
   "metadata": {},
   "source": [
    "<a id=\"ref1\"></a>\n",
    "<h3>Initialization</h3>\n",
    "\n",
    "First, we have to load the utility file which contains different utility functions that are not connected\n",
    "in any way to the networks presented in the tutorials, but rather help in\n",
    "processing the outputs into a more understandable way.\n"
   ]
  },
  {
   "cell_type": "code",
   "execution_count": 1,
   "metadata": {
    "tags": []
   },
   "outputs": [],
   "source": [
    "import urllib.request\n",
    "with urllib.request.urlopen(\"https://cf-courses-data.s3.us.cloud-object-storage.appdomain.cloud/IBMDeveloperSkillsNetwork-DL0120EN-SkillsNetwork/labs/Week4/data/utils.py\") as url:\n",
    "    response = url.read()\n",
    "target = open('utils.py', 'w')\n",
    "target.write(response.decode('utf-8'))\n",
    "target.close()"
   ]
  },
  {
   "cell_type": "markdown",
   "metadata": {},
   "source": [
    "<h2>Installing TensorFlow </h2>\n",
    "\n",
    "We will installing TensorFlow version 2.2.0 and its required prerequistes.  Also installing pillow...\n"
   ]
  },
  {
   "cell_type": "code",
   "execution_count": 2,
   "metadata": {
    "tags": []
   },
   "outputs": [
    {
     "name": "stdout",
     "output_type": "stream",
     "text": [
      "Collecting grpcio==1.24.3\n",
      "  Downloading grpcio-1.24.3-cp37-cp37m-manylinux2010_x86_64.whl (2.2 MB)\n",
      "\u001b[2K     \u001b[90m━━━━━━━━━━━━━━━━━━━━━━━━━━━━━━━━━━━━━━━━\u001b[0m \u001b[32m2.2/2.2 MB\u001b[0m \u001b[31m56.8 MB/s\u001b[0m eta \u001b[36m0:00:00\u001b[0m00:01\u001b[0m\n",
      "\u001b[?25hRequirement already satisfied: six>=1.5.2 in /home/jupyterlab/conda/envs/python/lib/python3.7/site-packages (from grpcio==1.24.3) (1.16.0)\n",
      "Installing collected packages: grpcio\n",
      "  Attempting uninstall: grpcio\n",
      "    Found existing installation: grpcio 1.48.1\n",
      "    Uninstalling grpcio-1.48.1:\n",
      "      Successfully uninstalled grpcio-1.48.1\n",
      "Successfully installed grpcio-1.24.3\n",
      "Collecting tensorflow==2.2.0\n",
      "  Downloading tensorflow-2.2.0-cp37-cp37m-manylinux2010_x86_64.whl (516.2 MB)\n",
      "\u001b[2K     \u001b[90m━━━━━━━━━━━━━━━━━━━━━━━━━━━━━━━━━━━━━\u001b[0m \u001b[32m516.2/516.2 MB\u001b[0m \u001b[31m898.3 kB/s\u001b[0m eta \u001b[36m0:00:00\u001b[0m00:01\u001b[0m00:01\u001b[0m\n",
      "\u001b[?25hRequirement already satisfied: absl-py>=0.7.0 in /home/jupyterlab/conda/envs/python/lib/python3.7/site-packages (from tensorflow==2.2.0) (1.4.0)\n",
      "Collecting astunparse==1.6.3 (from tensorflow==2.2.0)\n",
      "  Downloading astunparse-1.6.3-py2.py3-none-any.whl (12 kB)\n",
      "Collecting gast==0.3.3 (from tensorflow==2.2.0)\n",
      "  Downloading gast-0.3.3-py2.py3-none-any.whl (9.7 kB)\n",
      "Requirement already satisfied: google-pasta>=0.1.8 in /home/jupyterlab/conda/envs/python/lib/python3.7/site-packages (from tensorflow==2.2.0) (0.2.0)\n",
      "Collecting h5py<2.11.0,>=2.10.0 (from tensorflow==2.2.0)\n",
      "  Downloading h5py-2.10.0-cp37-cp37m-manylinux1_x86_64.whl (2.9 MB)\n",
      "\u001b[2K     \u001b[90m━━━━━━━━━━━━━━━━━━━━━━━━━━━━━━━━━━━━━━━━\u001b[0m \u001b[32m2.9/2.9 MB\u001b[0m \u001b[31m74.9 MB/s\u001b[0m eta \u001b[36m0:00:00\u001b[0m:00:01\u001b[0m\n",
      "\u001b[?25hRequirement already satisfied: keras-preprocessing>=1.1.0 in /home/jupyterlab/conda/envs/python/lib/python3.7/site-packages (from tensorflow==2.2.0) (1.1.2)\n",
      "Requirement already satisfied: numpy<2.0,>=1.16.0 in /home/jupyterlab/conda/envs/python/lib/python3.7/site-packages (from tensorflow==2.2.0) (1.21.6)\n",
      "Collecting opt-einsum>=2.3.2 (from tensorflow==2.2.0)\n",
      "  Downloading opt_einsum-3.3.0-py3-none-any.whl (65 kB)\n",
      "\u001b[2K     \u001b[90m━━━━━━━━━━━━━━━━━━━━━━━━━━━━━━━━━━━━━━━━\u001b[0m \u001b[32m65.5/65.5 kB\u001b[0m \u001b[31m8.1 MB/s\u001b[0m eta \u001b[36m0:00:00\u001b[0m\n",
      "\u001b[?25hRequirement already satisfied: protobuf>=3.8.0 in /home/jupyterlab/conda/envs/python/lib/python3.7/site-packages (from tensorflow==2.2.0) (4.21.8)\n",
      "Collecting tensorboard<2.3.0,>=2.2.0 (from tensorflow==2.2.0)\n",
      "  Downloading tensorboard-2.2.2-py3-none-any.whl (3.0 MB)\n",
      "\u001b[2K     \u001b[90m━━━━━━━━━━━━━━━━━━━━━━━━━━━━━━━━━━━━━━━━\u001b[0m \u001b[32m3.0/3.0 MB\u001b[0m \u001b[31m78.6 MB/s\u001b[0m eta \u001b[36m0:00:00\u001b[0m:00:01\u001b[0m\n",
      "\u001b[?25hCollecting tensorflow-estimator<2.3.0,>=2.2.0 (from tensorflow==2.2.0)\n",
      "  Downloading tensorflow_estimator-2.2.0-py2.py3-none-any.whl (454 kB)\n",
      "\u001b[2K     \u001b[90m━━━━━━━━━━━━━━━━━━━━━━━━━━━━━━━━━━━━━━\u001b[0m \u001b[32m454.6/454.6 kB\u001b[0m \u001b[31m44.2 MB/s\u001b[0m eta \u001b[36m0:00:00\u001b[0m\n",
      "\u001b[?25hRequirement already satisfied: termcolor>=1.1.0 in /home/jupyterlab/conda/envs/python/lib/python3.7/site-packages (from tensorflow==2.2.0) (2.3.0)\n",
      "Requirement already satisfied: wrapt>=1.11.1 in /home/jupyterlab/conda/envs/python/lib/python3.7/site-packages (from tensorflow==2.2.0) (1.14.1)\n",
      "Requirement already satisfied: six>=1.12.0 in /home/jupyterlab/conda/envs/python/lib/python3.7/site-packages (from tensorflow==2.2.0) (1.16.0)\n",
      "Requirement already satisfied: grpcio>=1.8.6 in /home/jupyterlab/conda/envs/python/lib/python3.7/site-packages (from tensorflow==2.2.0) (1.24.3)\n",
      "Requirement already satisfied: wheel>=0.26 in /home/jupyterlab/conda/envs/python/lib/python3.7/site-packages (from tensorflow==2.2.0) (0.40.0)\n",
      "Collecting scipy==1.4.1 (from tensorflow==2.2.0)\n",
      "  Downloading scipy-1.4.1-cp37-cp37m-manylinux1_x86_64.whl (26.1 MB)\n",
      "\u001b[2K     \u001b[90m━━━━━━━━━━━━━━━━━━━━━━━━━━━━━━━━━━━━━━━━\u001b[0m \u001b[32m26.1/26.1 MB\u001b[0m \u001b[31m52.9 MB/s\u001b[0m eta \u001b[36m0:00:00\u001b[0m00:01\u001b[0m00:01\u001b[0m\n",
      "\u001b[?25hCollecting google-auth<2,>=1.6.3 (from tensorboard<2.3.0,>=2.2.0->tensorflow==2.2.0)\n",
      "  Downloading google_auth-1.35.0-py2.py3-none-any.whl (152 kB)\n",
      "\u001b[2K     \u001b[90m━━━━━━━━━━━━━━━━━━━━━━━━━━━━━━━━━━━━━━\u001b[0m \u001b[32m152.9/152.9 kB\u001b[0m \u001b[31m20.8 MB/s\u001b[0m eta \u001b[36m0:00:00\u001b[0m\n",
      "\u001b[?25hCollecting google-auth-oauthlib<0.5,>=0.4.1 (from tensorboard<2.3.0,>=2.2.0->tensorflow==2.2.0)\n",
      "  Downloading google_auth_oauthlib-0.4.6-py2.py3-none-any.whl (18 kB)\n",
      "Requirement already satisfied: markdown>=2.6.8 in /home/jupyterlab/conda/envs/python/lib/python3.7/site-packages (from tensorboard<2.3.0,>=2.2.0->tensorflow==2.2.0) (3.4.3)\n",
      "Requirement already satisfied: requests<3,>=2.21.0 in /home/jupyterlab/conda/envs/python/lib/python3.7/site-packages (from tensorboard<2.3.0,>=2.2.0->tensorflow==2.2.0) (2.29.0)\n",
      "Requirement already satisfied: setuptools>=41.0.0 in /home/jupyterlab/conda/envs/python/lib/python3.7/site-packages (from tensorboard<2.3.0,>=2.2.0->tensorflow==2.2.0) (67.7.2)\n",
      "Collecting tensorboard-plugin-wit>=1.6.0 (from tensorboard<2.3.0,>=2.2.0->tensorflow==2.2.0)\n",
      "  Downloading tensorboard_plugin_wit-1.8.1-py3-none-any.whl (781 kB)\n",
      "\u001b[2K     \u001b[90m━━━━━━━━━━━━━━━━━━━━━━━━━━━━━━━━━━━━━━\u001b[0m \u001b[32m781.3/781.3 kB\u001b[0m \u001b[31m49.9 MB/s\u001b[0m eta \u001b[36m0:00:00\u001b[0m\n",
      "\u001b[?25hRequirement already satisfied: werkzeug>=0.11.15 in /home/jupyterlab/conda/envs/python/lib/python3.7/site-packages (from tensorboard<2.3.0,>=2.2.0->tensorflow==2.2.0) (2.2.3)\n",
      "Collecting cachetools<5.0,>=2.0.0 (from google-auth<2,>=1.6.3->tensorboard<2.3.0,>=2.2.0->tensorflow==2.2.0)\n",
      "  Downloading cachetools-4.2.4-py3-none-any.whl (10 kB)\n",
      "Requirement already satisfied: pyasn1-modules>=0.2.1 in /home/jupyterlab/conda/envs/python/lib/python3.7/site-packages (from google-auth<2,>=1.6.3->tensorboard<2.3.0,>=2.2.0->tensorflow==2.2.0) (0.3.0)\n",
      "Collecting rsa<5,>=3.1.4 (from google-auth<2,>=1.6.3->tensorboard<2.3.0,>=2.2.0->tensorflow==2.2.0)\n",
      "  Downloading rsa-4.9-py3-none-any.whl (34 kB)\n",
      "Collecting requests-oauthlib>=0.7.0 (from google-auth-oauthlib<0.5,>=0.4.1->tensorboard<2.3.0,>=2.2.0->tensorflow==2.2.0)\n",
      "  Downloading requests_oauthlib-1.3.1-py2.py3-none-any.whl (23 kB)\n",
      "Requirement already satisfied: importlib-metadata>=4.4 in /home/jupyterlab/conda/envs/python/lib/python3.7/site-packages (from markdown>=2.6.8->tensorboard<2.3.0,>=2.2.0->tensorflow==2.2.0) (4.11.4)\n",
      "Requirement already satisfied: charset-normalizer<4,>=2 in /home/jupyterlab/conda/envs/python/lib/python3.7/site-packages (from requests<3,>=2.21.0->tensorboard<2.3.0,>=2.2.0->tensorflow==2.2.0) (3.1.0)\n",
      "Requirement already satisfied: idna<4,>=2.5 in /home/jupyterlab/conda/envs/python/lib/python3.7/site-packages (from requests<3,>=2.21.0->tensorboard<2.3.0,>=2.2.0->tensorflow==2.2.0) (3.4)\n",
      "Requirement already satisfied: urllib3<1.27,>=1.21.1 in /home/jupyterlab/conda/envs/python/lib/python3.7/site-packages (from requests<3,>=2.21.0->tensorboard<2.3.0,>=2.2.0->tensorflow==2.2.0) (1.26.15)\n",
      "Requirement already satisfied: certifi>=2017.4.17 in /home/jupyterlab/conda/envs/python/lib/python3.7/site-packages (from requests<3,>=2.21.0->tensorboard<2.3.0,>=2.2.0->tensorflow==2.2.0) (2022.12.7)\n",
      "Requirement already satisfied: MarkupSafe>=2.1.1 in /home/jupyterlab/conda/envs/python/lib/python3.7/site-packages (from werkzeug>=0.11.15->tensorboard<2.3.0,>=2.2.0->tensorflow==2.2.0) (2.1.1)\n",
      "Requirement already satisfied: zipp>=0.5 in /home/jupyterlab/conda/envs/python/lib/python3.7/site-packages (from importlib-metadata>=4.4->markdown>=2.6.8->tensorboard<2.3.0,>=2.2.0->tensorflow==2.2.0) (3.15.0)\n",
      "Requirement already satisfied: typing-extensions>=3.6.4 in /home/jupyterlab/conda/envs/python/lib/python3.7/site-packages (from importlib-metadata>=4.4->markdown>=2.6.8->tensorboard<2.3.0,>=2.2.0->tensorflow==2.2.0) (4.5.0)\n",
      "Requirement already satisfied: pyasn1<0.6.0,>=0.4.6 in /home/jupyterlab/conda/envs/python/lib/python3.7/site-packages (from pyasn1-modules>=0.2.1->google-auth<2,>=1.6.3->tensorboard<2.3.0,>=2.2.0->tensorflow==2.2.0) (0.5.0)\n",
      "Collecting oauthlib>=3.0.0 (from requests-oauthlib>=0.7.0->google-auth-oauthlib<0.5,>=0.4.1->tensorboard<2.3.0,>=2.2.0->tensorflow==2.2.0)\n",
      "  Downloading oauthlib-3.2.2-py3-none-any.whl (151 kB)\n",
      "\u001b[2K     \u001b[90m━━━━━━━━━━━━━━━━━━━━━━━━━━━━━━━━━━━━━━\u001b[0m \u001b[32m151.7/151.7 kB\u001b[0m \u001b[31m20.5 MB/s\u001b[0m eta \u001b[36m0:00:00\u001b[0m\n",
      "\u001b[?25hInstalling collected packages: tensorflow-estimator, tensorboard-plugin-wit, scipy, rsa, opt-einsum, oauthlib, h5py, gast, cachetools, astunparse, requests-oauthlib, google-auth, google-auth-oauthlib, tensorboard, tensorflow\n",
      "  Attempting uninstall: tensorflow-estimator\n",
      "    Found existing installation: tensorflow-estimator 1.14.0\n",
      "    Uninstalling tensorflow-estimator-1.14.0:\n",
      "      Successfully uninstalled tensorflow-estimator-1.14.0\n",
      "  Attempting uninstall: scipy\n",
      "    Found existing installation: scipy 1.7.3\n",
      "    Uninstalling scipy-1.7.3:\n",
      "      Successfully uninstalled scipy-1.7.3\n",
      "  Attempting uninstall: h5py\n",
      "    Found existing installation: h5py 2.8.0\n",
      "    Uninstalling h5py-2.8.0:\n",
      "      Successfully uninstalled h5py-2.8.0\n",
      "  Attempting uninstall: gast\n",
      "    Found existing installation: gast 0.5.3\n",
      "    Uninstalling gast-0.5.3:\n",
      "      Successfully uninstalled gast-0.5.3\n",
      "  Attempting uninstall: tensorboard\n",
      "    Found existing installation: tensorboard 1.14.0\n",
      "    Uninstalling tensorboard-1.14.0:\n",
      "      Successfully uninstalled tensorboard-1.14.0\n",
      "  Attempting uninstall: tensorflow\n",
      "    Found existing installation: tensorflow 1.14.0\n",
      "    Uninstalling tensorflow-1.14.0:\n",
      "      Successfully uninstalled tensorflow-1.14.0\n",
      "Successfully installed astunparse-1.6.3 cachetools-4.2.4 gast-0.3.3 google-auth-1.35.0 google-auth-oauthlib-0.4.6 h5py-2.10.0 oauthlib-3.2.2 opt-einsum-3.3.0 requests-oauthlib-1.3.1 rsa-4.9 scipy-1.4.1 tensorboard-2.2.2 tensorboard-plugin-wit-1.8.1 tensorflow-2.2.0 tensorflow-estimator-2.2.0\n",
      "Requirement already satisfied: pillow==8.1.0 in /home/jupyterlab/conda/envs/python/lib/python3.7/site-packages (8.1.0)\n"
     ]
    }
   ],
   "source": [
    "!pip install grpcio==1.24.3\n",
    "!pip install tensorflow==2.2.0\n",
    "!pip install pillow==8.1.0"
   ]
  },
  {
   "cell_type": "markdown",
   "metadata": {},
   "source": [
    "<b>Notice:</b> This notebook has been created with TensorFlow version 2.2, and might not work with other versions. Therefore we check:\n"
   ]
  },
  {
   "cell_type": "code",
   "execution_count": 3,
   "metadata": {
    "tags": []
   },
   "outputs": [],
   "source": [
    "import tensorflow as tf\n",
    "from IPython.display import Markdown, display\n",
    "\n",
    "def printmd(string):\n",
    "    display(Markdown('# <span style=\"color:red\">'+string+'</span>'))\n",
    "\n",
    "\n",
    "if not tf.__version__ == '2.2.0':\n",
    "    printmd('<<<<<!!!!! ERROR !!!! please upgrade to TensorFlow 2.2.0, or restart your Kernel (Kernel->Restart & Clear Output)>>>>>')"
   ]
  },
  {
   "cell_type": "markdown",
   "metadata": {},
   "source": [
    "Now, we load in all the packages that we use to create the net including the TensorFlow package:\n"
   ]
  },
  {
   "cell_type": "code",
   "execution_count": 11,
   "metadata": {
    "tags": []
   },
   "outputs": [],
   "source": [
    "import tensorflow as tf\n",
    "import numpy as np\n",
    "import sys\n",
    "sys.path.append('..')\n",
    "from ML0120EN import utils\n",
    "from PIL import Image\n",
    "# from ML0120EN import utils.tile_raster_images\n",
    "import matplotlib.pyplot as plt\n",
    "%matplotlib inline"
   ]
  },
  {
   "cell_type": "markdown",
   "metadata": {},
   "source": [
    "<a id=\"ref2\"></a>\n",
    "<h3>RBM layers</h3>\n",
    "\n",
    "An RBM has two layers. The first layer of the RBM is called the <b>visible</b> (or input layer). Imagine that our toy example, has only vectors with 7 values, so the visible layer must have $V=7$ input nodes. \n",
    "The second layer is the <b>hidden</b> layer, which has $H$ neurons in our case. Each hidden node takes on values of either 0 or 1 (i.e., $h_i = 1$ or $h_i$ = 0), with a probability that is a logistic function of the inputs it receives from the other $V$ visible units, called for example, $p(h_i = 1)$. For our toy sample, we'll use 2 nodes in the hidden layer, so $H = 2$.\n",
    "\n",
    "<center><img src=\"https://ibm.box.com/shared/static/eu26opvcefgls6vnwuo29uwp0nudmokh.png\" alt=\"RBM Model\" style=\"width: 400px;\"></center>\n"
   ]
  },
  {
   "cell_type": "markdown",
   "metadata": {},
   "source": [
    "     \n",
    "\n",
    "Each node in the first layer also has a <b>bias</b>. We will denote the bias as $v_{bias}$, and this single value is shared among the $V$ visible units.\n",
    "\n",
    "The <b>bias</b> of the second is defined similarly as $h_{bias}$, and this single value among the $H$ hidden units.\n"
   ]
  },
  {
   "cell_type": "code",
   "execution_count": 12,
   "metadata": {
    "tags": []
   },
   "outputs": [
    {
     "name": "stderr",
     "output_type": "stream",
     "text": [
      "2023-05-15 16:34:20.916900: W tensorflow/stream_executor/platform/default/dso_loader.cc:55] Could not load dynamic library 'libcuda.so.1'; dlerror: libcuda.so.1: cannot open shared object file: No such file or directory\n",
      "2023-05-15 16:34:20.916958: E tensorflow/stream_executor/cuda/cuda_driver.cc:313] failed call to cuInit: UNKNOWN ERROR (303)\n",
      "2023-05-15 16:34:20.917010: I tensorflow/stream_executor/cuda/cuda_diagnostics.cc:156] kernel driver does not appear to be running on this host (jupyterlab-pedromgomes): /proc/driver/nvidia/version does not exist\n",
      "2023-05-15 16:34:20.917538: I tensorflow/core/platform/cpu_feature_guard.cc:143] Your CPU supports instructions that this TensorFlow binary was not compiled to use: AVX2 AVX512F FMA\n",
      "2023-05-15 16:34:20.935120: I tensorflow/core/platform/profile_utils/cpu_utils.cc:102] CPU Frequency: 2394310000 Hz\n",
      "2023-05-15 16:34:20.935741: I tensorflow/compiler/xla/service/service.cc:168] XLA service 0x7f1c78000b20 initialized for platform Host (this does not guarantee that XLA will be used). Devices:\n",
      "2023-05-15 16:34:20.935776: I tensorflow/compiler/xla/service/service.cc:176]   StreamExecutor device (0): Host, Default Version\n"
     ]
    }
   ],
   "source": [
    "v_bias = tf.Variable(tf.zeros([7]), tf.float32)\n",
    "h_bias = tf.Variable(tf.zeros([2]), tf.float32)"
   ]
  },
  {
   "cell_type": "markdown",
   "metadata": {},
   "source": [
    "We have to define weights among the input layer and hidden layer nodes. In the weight matrix, the number of rows are equal to the input nodes, and the number of columns are equal to the output nodes. We define a tensor $\\mathbf{W}$ of shape = (7,2), where the number of visible neurons = 7, and the number of hidden neurons = 2. \n"
   ]
  },
  {
   "cell_type": "code",
   "execution_count": 13,
   "metadata": {
    "tags": []
   },
   "outputs": [],
   "source": [
    "W = tf.constant(np.random.normal(loc=0.0, scale=1.0, size=(7, 2)).astype(np.float32))"
   ]
  },
  {
   "cell_type": "markdown",
   "metadata": {},
   "source": [
    "<hr>\n"
   ]
  },
  {
   "cell_type": "markdown",
   "metadata": {},
   "source": [
    "<a id=\"ref3\"></a>\n",
    "<h3>What RBM can do after training?</h3>\n",
    "Think of RBM as a model that has been trained based on images of a dataset of many SUV and sedan cars. Also, imagine that the RBM network has only two hidden nodes, where one node encodes the weight and, and the other encodes the size.  \n",
    "In a sense, the different configurations represent different cars, where one is an SUV and the other is Sedan.  In a training process, through many forward and backward passes, the RBM adjust its weights to send a stronger signal to either the SUV node (0, 1) or the sedan node (1, 0) in the hidden layer, given the pixels of images. Now, given an SUV in hidden layer, which distribution of pixels should we expect? RBM can give you 2 things. First, it encodes your images in hidden layer. Second, it gives you the probability of observing a case, given some hidden values.\n",
    "\n",
    "\n",
    "<h3>The Inference Process</h3>\n",
    "\n",
    "RBM has two phases:\n",
    "<ul>\n",
    "    <li>Forward Pass</li>  \n",
    "    <li>Backward Pass or Reconstruction</li>\n",
    "</ul>\n",
    "\n",
    "<b>Phase 1) Forward pass:</b>  \n",
    "\n",
    "Input one training sample (one image) $\\mathbf{x}$ through all visible nodes, and pass it to all hidden nodes. Processing happens in each node in the hidden layer. This computation begins by making stochastic decisions about whether to transmit that input or not (i.e. to determine the state of each hidden layer).  First, the probability vector is computed using the input feature vector $\\mathbf{x}$, the weight matrix $\\mathbf{W}$, and the bias term $h_{bias}$, as \n",
    "\n",
    "\n",
    "$$p({h_j}|\\mathbf x)= \\sigma( \\sum_{i=1}^V W_{ij} x_i + h_{bias} )$$, \n",
    "\n",
    "where $\\sigma(z) = (1+e^{-z})^{-1}$ is the logistic function.\n",
    "\n",
    "\n",
    "So, what does $p({h_j})$ represent? It is the <b>probability distribution</b> of the hidden units. That is, RBM uses inputs $x_i$ to make predictions about hidden node activations. For example, imagine that the hidden node activation values are [0.51 0.84] for the first training item. It tells you that the conditional probability for each hidden neuron for Phase 1 is: \n",
    "\n",
    "$$p(h_{1} = 1|\\mathbf{v}) = 0.51$$\n",
    "$$p(h_{2} = 1|\\mathbf{v}) = 0.84$$\n",
    "\n",
    "As a result, for each row in the training set, vector of probabilities is generated.  In TensorFlow, this is referred to as a `tensor` with a shape of (1,2). \n",
    "\n",
    "We then turn unit $j$ with probability $p(h_{j}|\\mathbf{v})$, and turn it off with probability $1 - p(h_{j}|\\mathbf{v})$ by generating a uniform random number vector $\\mathbf{\\xi}$, and comparing it to the activation probability as \n",
    "\n",
    "<center>If $\\xi_j>p(h_{j}|\\mathbf{v})$, then $h_j=1$, else $h_j=0$.</center>\n",
    "\n",
    "\n",
    "Therefore, the conditional probability of a configuration of $\\mathbf{h}$ given $\\mathbf{v}$ (for a training sample) is:\n",
    "\n",
    "$$p(\\mathbf{h} \\mid \\mathbf{v}) = \\prod_{j=1}^H p(h_j \\mid \\mathbf{v})$$\n",
    "\n",
    "\n",
    "where $H$ is the number of hidden units.\n",
    "\n"
   ]
  },
  {
   "cell_type": "markdown",
   "metadata": {},
   "source": [
    "Before we go further, let's look at a toy example for one case out of all input. Assume that we have a trained RBM, and a very simple input vector, such as [1.0, 0.0, 0.0, 1.0, 0.0, 0.0, 0.0].   \n",
    "Let's see what the output of forward pass would look like:\n"
   ]
  },
  {
   "cell_type": "code",
   "execution_count": 14,
   "metadata": {
    "tags": []
   },
   "outputs": [
    {
     "name": "stdout",
     "output_type": "stream",
     "text": [
      "Input:  tf.Tensor([[1. 0. 0. 1. 0. 0. 0.]], shape=(1, 7), dtype=float32)\n",
      "hb:  tf.Tensor([0.1 0.1], shape=(2,), dtype=float32)\n",
      "w:  tf.Tensor(\n",
      "[[-0.7595062   1.6710001 ]\n",
      " [ 3.260736   -0.05216897]\n",
      " [ 0.30022728 -1.4370509 ]\n",
      " [ 0.12354292  0.49047974]\n",
      " [ 0.8486836  -1.0737582 ]\n",
      " [-0.06142515  1.7132702 ]\n",
      " [-1.7121717   0.2007537 ]], shape=(7, 2), dtype=float32)\n",
      "p(h|v):  tf.Tensor([[0.36912712 0.9056362 ]], shape=(1, 2), dtype=float32)\n",
      "h0 states: tf.Tensor([[1. 1.]], shape=(1, 2), dtype=float32)\n"
     ]
    }
   ],
   "source": [
    "X = tf.constant([[1.0, 0.0, 0.0, 1.0, 0.0, 0.0, 0.0]], tf.float32)\n",
    "\n",
    "v_state = X\n",
    "print (\"Input: \", v_state)\n",
    "\n",
    "h_bias = tf.constant([0.1, 0.1])\n",
    "print (\"hb: \", h_bias)\n",
    "print (\"w: \", W)\n",
    "\n",
    "# Calculate the probabilities of turning the hidden units on:\n",
    "h_prob = tf.nn.sigmoid(tf.matmul(v_state, W) + h_bias)  #probabilities of the hidden units\n",
    "print (\"p(h|v): \", h_prob)\n",
    "\n",
    "# Draw samples from the distribution:\n",
    "h_state = tf.nn.relu(tf.sign(h_prob - tf.random.uniform(tf.shape(h_prob)))) #states\n",
    "print (\"h0 states:\", h_state)"
   ]
  },
  {
   "cell_type": "markdown",
   "metadata": {},
   "source": [
    "<b>Phase 2) Backward Pass (Reconstruction):</b>\n",
    "The RBM reconstructs data by making several forward and backward passes between the visible and hidden layers.\n",
    "\n",
    "So, in the second phase (i.e. reconstruction phase), the samples from the hidden layer (i.e. $\\mathbf h$) becomes the input in the backward pass. The same weight matrix and visible layer biases are used to passed to the sigmoid function. The reproduced output is a reconstruction which is an approximation of the original input.\n"
   ]
  },
  {
   "cell_type": "code",
   "execution_count": 15,
   "metadata": {
    "tags": []
   },
   "outputs": [
    {
     "name": "stdout",
     "output_type": "stream",
     "text": [
      "b:  tf.Tensor([0.1 0.2 0.1 0.1 0.1 0.2 0.1], shape=(7,), dtype=float32)\n",
      "p(vi∣h):  tf.Tensor(\n",
      "[[0.7333124  0.9679712  0.26176333 0.67128944 0.46877202 0.8643435\n",
      "  0.1960105 ]], shape=(1, 7), dtype=float32)\n",
      "v probability states:  tf.Tensor([[1. 1. 1. 0. 1. 1. 1.]], shape=(1, 7), dtype=float32)\n"
     ]
    }
   ],
   "source": [
    "vb = tf.constant([0.1, 0.2, 0.1, 0.1, 0.1, 0.2, 0.1])\n",
    "print (\"b: \", vb)\n",
    "v_prob = tf.nn.sigmoid(tf.matmul(h_state, tf.transpose(W)) + vb)\n",
    "print (\"p(vi∣h): \", v_prob)\n",
    "v_state = tf.nn.relu(tf.sign(v_prob - tf.random.uniform(tf.shape(v_prob))))\n",
    "print (\"v probability states: \", v_state)"
   ]
  },
  {
   "cell_type": "markdown",
   "metadata": {},
   "source": [
    "RBM learns a probability distribution over the input, and then, after being trained, the RBM can generate new samples from the learned probability distribution. As you know, <b>probability distribution</b>, is a mathematical function that provides the probabilities of occurrence of different possible outcomes in an experiment.\n",
    "\n",
    "The (conditional) probability distribution over the visible units v is given by\n",
    "\n",
    "$$p(\\mathbf{v} \\mid \\mathbf{h}) = \\prod_{i=1}^V p(v_i \\mid \\mathbf{h}),$$\n",
    "\n",
    "\n",
    "where,\n",
    "\n",
    "$$p(v_i \\mid \\mathbf{h}) = \\sigma\\left(\\sum_{j=1}^H W_{ji} h_j + v_{bias} \\right)$$\n",
    "\n",
    "so, given current state of hidden units and weights, what is the probability of generating [1. 0. 0. 1. 0. 0. 0.] in reconstruction phase, based on the above <b>probability distribution</b> function?\n"
   ]
  },
  {
   "cell_type": "code",
   "execution_count": 16,
   "metadata": {
    "tags": []
   },
   "outputs": [
    {
     "name": "stdout",
     "output_type": "stream",
     "text": [
      "input X: [[1. 0. 0. 1. 0. 0. 0.]]\n",
      "probablity vector: [0.7333124  0.9679712  0.26176333 0.67128944 0.46877202 0.8643435\n",
      " 0.1960105 ]\n",
      "probability of generating X:  0.0006743835\n"
     ]
    }
   ],
   "source": [
    "inp = X\n",
    "print(\"input X:\" , inp.numpy())\n",
    "\n",
    "print(\"probablity vector:\" , v_prob[0].numpy())\n",
    "v_probability = 1\n",
    "\n",
    "for elm, p in zip(inp[0],v_prob[0]) :\n",
    "    if elm ==1:\n",
    "        v_probability *= p\n",
    "    else:\n",
    "        v_probability *= (1-p)\n",
    "\n",
    "print(\"probability of generating X: \" , v_probability.numpy())"
   ]
  },
  {
   "cell_type": "markdown",
   "metadata": {},
   "source": [
    "How similar are vectors $\\mathbf{x}$ and $\\mathbf{v}$? Of course, the reconstructed values most likely will not look anything like the input vector, because our network has not been trained yet. Our objective is to train the model in such a way that the input vector and reconstructed vector to be same. Therefore, based on how different the input values look to the ones that we just reconstructed, the weights are adjusted. \n"
   ]
  },
  {
   "cell_type": "markdown",
   "metadata": {},
   "source": [
    "<hr>\n"
   ]
  },
  {
   "cell_type": "markdown",
   "metadata": {},
   "source": [
    "\n",
    "<h2>MNIST</h2>\n"
   ]
  },
  {
   "cell_type": "markdown",
   "metadata": {},
   "source": [
    "We will be using the MNIST dataset to practice the usage of RBMs. The following cell loads the MNIST dataset.\n"
   ]
  },
  {
   "cell_type": "code",
   "execution_count": 17,
   "metadata": {
    "tags": []
   },
   "outputs": [
    {
     "name": "stdout",
     "output_type": "stream",
     "text": [
      "Downloading data from https://storage.googleapis.com/tensorflow/tf-keras-datasets/mnist.npz\n",
      "11493376/11490434 [==============================] - 0s 0us/step\n"
     ]
    }
   ],
   "source": [
    "#loading training and test data\n",
    "mnist = tf.keras.datasets.mnist\n",
    "(trX, trY), (teX, teY) = mnist.load_data()\n",
    "\n",
    "# showing an example of the Flatten class and operation\n",
    "from tensorflow.keras.layers import Flatten\n",
    "flatten = Flatten(dtype='float32')\n",
    "trX = flatten(trX/255.0)\n",
    "trY = flatten(trY/255.0)"
   ]
  },
  {
   "cell_type": "markdown",
   "metadata": {},
   "source": [
    "Lets look at the dimension of the images.\n"
   ]
  },
  {
   "cell_type": "markdown",
   "metadata": {},
   "source": [
    "MNIST images have 784 pixels, so the visible layer must have 784 input nodes.  For our case, we'll use 50 nodes in the hidden layer, so i = 50.\n"
   ]
  },
  {
   "cell_type": "code",
   "execution_count": 18,
   "metadata": {
    "tags": []
   },
   "outputs": [],
   "source": [
    "vb = tf.Variable(tf.zeros([784]), tf.float32)\n",
    "hb = tf.Variable(tf.zeros([50]), tf.float32)"
   ]
  },
  {
   "cell_type": "markdown",
   "metadata": {},
   "source": [
    "Let $\\mathbf W$ be the Tensor of 784x50 (784 - number of visible neurons, 50 - number of hidden neurons) that represents weights between the neurons. \n"
   ]
  },
  {
   "cell_type": "code",
   "execution_count": 19,
   "metadata": {
    "tags": []
   },
   "outputs": [],
   "source": [
    "W = tf.Variable(tf.zeros([784,50]), tf.float32)"
   ]
  },
  {
   "cell_type": "markdown",
   "metadata": {},
   "source": [
    "Lets define the visible layer:\n"
   ]
  },
  {
   "cell_type": "code",
   "execution_count": 20,
   "metadata": {
    "tags": []
   },
   "outputs": [
    {
     "data": {
      "text/plain": [
       "<tf.Tensor: shape=(1, 50), dtype=float32, numpy=\n",
       "array([[0., 0., 0., 0., 0., 0., 0., 0., 0., 0., 0., 0., 0., 0., 0., 0.,\n",
       "        0., 0., 0., 0., 0., 0., 0., 0., 0., 0., 0., 0., 0., 0., 0., 0.,\n",
       "        0., 0., 0., 0., 0., 0., 0., 0., 0., 0., 0., 0., 0., 0., 0., 0.,\n",
       "        0., 0.]], dtype=float32)>"
      ]
     },
     "execution_count": 20,
     "metadata": {},
     "output_type": "execute_result"
    }
   ],
   "source": [
    "v0_state = tf.Variable(tf.zeros([784]), tf.float32)\n",
    "\n",
    "#testing to see if the matrix product works\n",
    "tf.matmul( [v0_state], W)"
   ]
  },
  {
   "cell_type": "markdown",
   "metadata": {},
   "source": [
    "Now, we can define hidden layer:\n"
   ]
  },
  {
   "cell_type": "code",
   "execution_count": 21,
   "metadata": {
    "tags": []
   },
   "outputs": [
    {
     "name": "stdout",
     "output_type": "stream",
     "text": [
      "h0_state shape:  tf.Tensor([ 1 50], shape=(2,), dtype=int32)\n",
      "first 15 hidden states:  tf.Tensor([1. 1. 1. 1. 0. 1. 1. 1. 1. 1. 0. 1. 1. 0. 1.], shape=(15,), dtype=float32)\n"
     ]
    }
   ],
   "source": [
    "#computing the hidden nodes probability vector and checking shape\n",
    "h0_prob = tf.nn.sigmoid(tf.matmul([v0_state], W) + hb)  #probabilities of the hidden units\n",
    "print(\"h0_state shape: \" , tf.shape(h0_prob))\n",
    "\n",
    "#defining a function to return only the generated hidden states \n",
    "def hidden_layer(v0_state, W, hb):\n",
    "    h0_prob = tf.nn.sigmoid(tf.matmul([v0_state], W) + hb)  #probabilities of the hidden units\n",
    "    h0_state = tf.nn.relu(tf.sign(h0_prob - tf.random.uniform(tf.shape(h0_prob)))) #sample_h_given_X\n",
    "    return h0_state\n",
    "\n",
    "\n",
    "h0_state = hidden_layer(v0_state, W, hb)\n",
    "print(\"first 15 hidden states: \", h0_state[0][0:15])"
   ]
  },
  {
   "cell_type": "markdown",
   "metadata": {},
   "source": [
    "Now, we define reconstruction part:\n"
   ]
  },
  {
   "cell_type": "code",
   "execution_count": 22,
   "metadata": {
    "tags": []
   },
   "outputs": [
    {
     "name": "stdout",
     "output_type": "stream",
     "text": [
      "hidden state shape:  (1, 50)\n",
      "v0 state shape:   (784,)\n",
      "v1 state shape:   (784,)\n"
     ]
    }
   ],
   "source": [
    "def reconstructed_output(h0_state, W, vb):\n",
    "    v1_prob = tf.nn.sigmoid(tf.matmul(h0_state, tf.transpose(W)) + vb) \n",
    "    v1_state = tf.nn.relu(tf.sign(v1_prob - tf.random.uniform(tf.shape(v1_prob)))) #sample_v_given_h\n",
    "    return v1_state[0]\n",
    "\n",
    "v1_state = reconstructed_output(h0_state, W, vb)\n",
    "print(\"hidden state shape: \", h0_state.shape)\n",
    "print(\"v0 state shape:  \", v0_state.shape)\n",
    "print(\"v1 state shape:  \", v1_state.shape)"
   ]
  },
  {
   "cell_type": "markdown",
   "metadata": {},
   "source": [
    "<h3>What is the objective function?</h3>\n",
    "\n",
    "<b>Goal</b>: Maximize the likelihood of our data being drawn from that distribution\n",
    "\n",
    "<b>Calculate error:</b>  \n",
    "In each epoch, we compute the \"error\" as a sum of the squared difference between step 1 and step n,\n",
    "e.g the error shows the difference between the data and its reconstruction.\n",
    "\n",
    "<b>Note:</b> tf.reduce_mean computes the mean of elements across dimensions of a tensor.\n"
   ]
  },
  {
   "cell_type": "code",
   "execution_count": 23,
   "metadata": {
    "tags": []
   },
   "outputs": [
    {
     "name": "stdout",
     "output_type": "stream",
     "text": [
      "error 0.52678573\n"
     ]
    }
   ],
   "source": [
    "def error(v0_state, v1_state):\n",
    "    return tf.reduce_mean(tf.square(v0_state - v1_state))\n",
    "\n",
    "err = tf.reduce_mean(tf.square(v0_state - v1_state))\n",
    "print(\"error\" , err.numpy())"
   ]
  },
  {
   "cell_type": "markdown",
   "metadata": {},
   "source": [
    "<a id=\"ref4\"></a>\n",
    "<h3>Training the Model</h3>\n",
    "<b>Warning...</b> The following part is math-heavy, but you can skip it if you just want to run the cells in the next section.\n",
    "\n",
    "As mentioned, we want to give a high probability to the input data we train on. So, in order to train an RBM, we have to maximize the product of probabilities assigned to all rows $\\mathbf{v}$ (images) in the training set $\\mathbf{V}$ (a matrix, where each row of it is treated as a visible vector $\\mathbf{v}$)\n",
    "\n",
    "$$\\arg \\max_W \\prod_{\\mathbf{v}\\in\\mathbf{V}_T} p(\\mathbf{v})$$\n",
    "\n",
    "\n",
    "which is equivalent to maximizing the expectation of the log probability, given as\n",
    "\n",
    "$$\\arg\\max_W\\left[ \\mathbb{E} \\left(\\prod_{\\mathbf v\\in \\mathbf V}\\text{log} \\left(p(\\mathbf v)\\right) \\right) \\right].$$\n",
    "\n",
    "\n",
    "So, we have to update the weights $W_{ij}$  to increase $p(\\mathbf{v})$ for all $\\mathbf{v}$ in our training data during training. So we have to calculate the derivative:\n",
    "\n",
    "\n",
    "$$\\frac{\\partial \\log p(\\mathbf v)}{\\partial W_{ij}}$$\n",
    "\n",
    "This cannot be easily done by typical <b>gradient descent (SGD)</b>, so we can use another approach, which has 2 steps:\n",
    "<ol>\n",
    "    <li>Gibbs Sampling</li>\n",
    "    <li>Contrastive Divergence</li>\n",
    "</ol>    \n",
    "    \n",
    "<h3>Gibbs Sampling</h3>   \n",
    "\n",
    "<h4>Gibbs Sampling Step 1</h4> \n",
    "Given an input vector $\\mathbf{v}$, we are using $p(\\mathbf{h}|\\mathbf{v})$ to predict the hidden values $\\mathbf{h}$. \n",
    "  $$p({h_j}|\\mathbf v)= \\sigma\\left(\\sum_{i=1}^V W_{ij} v_i + h_{bias} \\right)$$\n",
    "The samples are generated from this distribution by generating the uniform random variate vector $\\mathbf{\\xi} \\sim U[0,1]$ of length $H$ and comparing to the computed probabilities as\n",
    "\n",
    "\n",
    "<center>If $\\xi_j>p(h_{j}|\\mathbf{v})$, then $h_j=1$, else $h_j=0$.</center>\n",
    "\n",
    "\n",
    "<h4>Gibbs Sampling Step 2</h4> \n",
    "Then, knowing the hidden values, we use $p(\\mathbf v| \\mathbf h)$ for reconstructing of new input values v. \n",
    "\n",
    "   $$p({v_i}|\\mathbf h)= \\sigma\\left(\\sum_{j=1}^H W^{T}_{ij} h_j + v_{bias} \\right)$$\n",
    "\n",
    "\n",
    "The samples are generated from this distribution by generating a uniform random variate vector $\\mathbf{\\xi} \\sim U[0,1]$ of length $V$ and comparing to the computed probabilities as\n",
    "\n",
    "<center>If $\\xi_i>p(v_{i}|\\mathbf{h})$, then $v_i=1$, else $v_i=0$.</center>\n",
    "\n",
    "Let vectors $\\mathbf v_k$ and $\\mathbf h_k$ be for the $k$th iteration.  In general, the $kth$ state is generrated as: \n",
    "\n",
    "\n",
    "    \n",
    "<b>Iteration</b> $k$: \n",
    "\n",
    "$$\\mathbf v_{k-1} \\Rightarrow p(\\mathbf h_{k-1}|\\mathbf v_{k-1})\\Rightarrow \\mathbf h_{k-1}\\Rightarrow p(\\mathbf v_{k}|\\mathbf h_{k-1})\\Rightarrow \\mathbf v_k$$       \n",
    "    \n",
    "<h3>Contrastive Divergence (CD-k)</h3>\n",
    "The update of the weight matrix is done during the Contrastive Divergence step. \n",
    "\n",
    "Vectors v0 and vk are used to calculate the activation probabilities for hidden values h0 and hk. The difference between the outer products of those probabilities with input vectors v0 and vk results in the update matrix:\n",
    "\n",
    "\n",
    "$$\\Delta \\mathbf W_k =\\mathbf v_k \\otimes \\mathbf h_k - \\mathbf v_{k-1} \\otimes \\mathbf h_{k-1}$$\n",
    "\n",
    "Contrastive Divergence is actually matrix of values that is computed and used to adjust values of the $\\mathbf W$ matrix. Changing $\\mathbf W$ incrementally leads to training of the  $\\mathbf W$ values. Then, on each step (epoch), $\\mathbf W$ is updated using the following:\n",
    "\n",
    "$$\\mathbf W_k = \\mathbf W_{k-1} + \\alpha * \\Delta \\mathbf W_k$$\n",
    "\n",
    "\n",
    "\n",
    "Reconstruction steps:\n",
    "<ul>\n",
    "    <li> Get one data point from data set, like <i>x</i>, and pass it through the following steps:</li>\n",
    "    \n",
    "<b>Iteration</b> $k=1$: \n",
    "    \n",
    "Sampling (starting with input image)\n",
    "    $$\\mathbf x = \\mathbf v_0 \\Rightarrow p(\\mathbf h_0|\\mathbf v_0)\\Rightarrow \\mathbf h_0 \\Rightarrow p(\\mathbf v_1|\\mathbf h_0)\\Rightarrow \\mathbf v_1$$   \n",
    "    followed by the CD-k step\n",
    "$$\\Delta \\mathbf W_1 =\\mathbf v_1 \\otimes \\mathbf h_1 - \\mathbf v_{0} \\otimes \\mathbf h_{0}$$     \n",
    "$$\\mathbf W_1 = \\mathbf W_{0} + \\alpha * \\Delta \\mathbf W_1$$ \n",
    " \n",
    "<li> $\\mathbf v_1$ is the reconstruction of $\\mathbf x$ sent to the next iteration).</li>\n",
    "\n",
    "<b>Iteration</b> $k=2$: \n",
    "\n",
    "Sampling (starting with $\\mathbf v_1$)\n",
    "\n",
    "$$\\mathbf v_1 \\Rightarrow p(\\mathbf h_1|\\mathbf v_1)\\Rightarrow \\mathbf h_1\\Rightarrow p(\\mathbf v_2|\\mathbf h_1)\\Rightarrow \\mathbf v_2$$   \n",
    "\n",
    "followed by the CD-k step\n",
    "$$\\Delta \\mathbf W_2 =\\mathbf v_2 \\otimes \\mathbf h_2 - \\mathbf v_{1} \\otimes \\mathbf h_{1}$$     \n",
    "$$\\mathbf W_2 = \\mathbf W_{1} + \\alpha * \\Delta \\mathbf W_2$$ \n",
    "\n",
    "<li> $\\mathbf v_2$ is the reconstruction of $\\mathbf v_1$ sent to the next iteration).</li>    \n",
    "      \n",
    "<b>Iteration</b> $k=K$:\n",
    "    \n",
    "Sampling (starting with $\\mathbf v_{K-1}$)\n",
    "\n",
    "$$\\mathbf v_{K-1} \\Rightarrow p(\\mathbf h_{K-1}|\\mathbf v_{K-1})\\Rightarrow \\mathbf h_{K-1}\\Rightarrow p(\\mathbf v_K|\\mathbf h_{K-1})\\Rightarrow \\mathbf v_K$$   \n",
    "\n",
    "followed by the CD-k step\n",
    "$$\\Delta \\mathbf W_K =\\mathbf v_K \\otimes \\mathbf h_K - \\mathbf v_{K-1} \\otimes \\mathbf h_{K-1}$$     \n",
    "$$\\mathbf W_K = \\mathbf W_{K-1} + \\alpha * \\Delta \\mathbf W_K$$ \n",
    "    \n",
    "<b>What is $\\alpha$?</b>  \n",
    "Here, alpha is some small step size, and is also known as the \"learning rate\".\n"
   ]
  },
  {
   "cell_type": "markdown",
   "metadata": {},
   "source": [
    "$K$ is adjustable, and good performance can be achieved with $K=1$, so that we just take one set of sampling steps per image.\n"
   ]
  },
  {
   "cell_type": "code",
   "execution_count": 24,
   "metadata": {
    "tags": []
   },
   "outputs": [],
   "source": [
    "h1_prob = tf.nn.sigmoid(tf.matmul([v1_state], W) + hb)\n",
    "h1_state = tf.nn.relu(tf.sign(h1_prob - tf.random.uniform(tf.shape(h1_prob)))) #sample_h_given_X"
   ]
  },
  {
   "cell_type": "markdown",
   "metadata": {},
   "source": [
    "Lets look at the error of the first run:\n"
   ]
  },
  {
   "cell_type": "code",
   "execution_count": 25,
   "metadata": {
    "tags": []
   },
   "outputs": [
    {
     "name": "stdout",
     "output_type": "stream",
     "text": [
      "error:  tf.Tensor(0.52678573, shape=(), dtype=float32)\n"
     ]
    }
   ],
   "source": [
    "print(\"error: \", error(v0_state, v1_state))"
   ]
  },
  {
   "cell_type": "code",
   "execution_count": 26,
   "metadata": {
    "tags": []
   },
   "outputs": [
    {
     "name": "stdout",
     "output_type": "stream",
     "text": [
      "Epoch: 0 batch #: 1  of 300 sample #: 199 reconstruction error: 0.189413\n",
      "Epoch: 0 batch #: 2  of 300 sample #: 199 reconstruction error: 0.202253\n",
      "Epoch: 0 batch #: 3  of 300 sample #: 199 reconstruction error: 0.134095\n",
      "Epoch: 0 batch #: 4  of 300 sample #: 199 reconstruction error: 0.104528\n",
      "Epoch: 0 batch #: 5  of 300 sample #: 199 reconstruction error: 0.102119\n",
      "Epoch: 0 batch #: 6  of 300 sample #: 199 reconstruction error: 0.170632\n",
      "Epoch: 0 batch #: 7  of 300 sample #: 199 reconstruction error: 0.096442\n",
      "Epoch: 0 batch #: 8  of 300 sample #: 199 reconstruction error: 0.116613\n",
      "Epoch: 0 batch #: 9  of 300 sample #: 199 reconstruction error: 0.091214\n",
      "Epoch: 0 batch #: 10  of 300 sample #: 199 reconstruction error: 0.177522\n",
      "Epoch: 0 batch #: 11  of 300 sample #: 199 reconstruction error: 0.078671\n",
      "Epoch: 0 batch #: 12  of 300 sample #: 199 reconstruction error: 0.124796\n",
      "Epoch: 0 batch #: 13  of 300 sample #: 199 reconstruction error: 0.065294\n",
      "Epoch: 0 batch #: 14  of 300 sample #: 199 reconstruction error: 0.124046\n",
      "Epoch: 0 batch #: 15  of 300 sample #: 199 reconstruction error: 0.110815\n",
      "Epoch: 0 batch #: 16  of 300 sample #: 199 reconstruction error: 0.119587\n",
      "Epoch: 0 batch #: 17  of 300 sample #: 199 reconstruction error: 0.082876\n",
      "Epoch: 0 batch #: 18  of 300 sample #: 199 reconstruction error: 0.112036\n",
      "Epoch: 0 batch #: 19  of 300 sample #: 199 reconstruction error: 0.134393\n",
      "Epoch: 0 batch #: 20  of 300 sample #: 199 reconstruction error: 0.101026\n",
      "Epoch: 0 batch #: 21  of 300 sample #: 199 reconstruction error: 0.091414\n",
      "Epoch: 0 batch #: 22  of 300 sample #: 199 reconstruction error: 0.089999\n",
      "Epoch: 0 batch #: 23  of 300 sample #: 199 reconstruction error: 0.115297\n",
      "Epoch: 0 batch #: 24  of 300 sample #: 199 reconstruction error: 0.130206\n",
      "Epoch: 0 batch #: 25  of 300 sample #: 199 reconstruction error: 0.092217\n",
      "Epoch: 0 batch #: 26  of 300 sample #: 199 reconstruction error: 0.110571\n",
      "Epoch: 0 batch #: 27  of 300 sample #: 199 reconstruction error: 0.114390\n",
      "Epoch: 0 batch #: 28  of 300 sample #: 199 reconstruction error: 0.097031\n",
      "Epoch: 0 batch #: 29  of 300 sample #: 199 reconstruction error: 0.112390\n",
      "Epoch: 0 batch #: 30  of 300 sample #: 199 reconstruction error: 0.083541\n",
      "Epoch: 0 batch #: 31  of 300 sample #: 199 reconstruction error: 0.089658\n",
      "Epoch: 0 batch #: 32  of 300 sample #: 199 reconstruction error: 0.113477\n",
      "Epoch: 0 batch #: 33  of 300 sample #: 199 reconstruction error: 0.059833\n",
      "Epoch: 0 batch #: 34  of 300 sample #: 199 reconstruction error: 0.076586\n",
      "Epoch: 0 batch #: 35  of 300 sample #: 199 reconstruction error: 0.077106\n",
      "Epoch: 0 batch #: 36  of 300 sample #: 199 reconstruction error: 0.086530\n",
      "Epoch: 0 batch #: 37  of 300 sample #: 199 reconstruction error: 0.063474\n",
      "Epoch: 0 batch #: 38  of 300 sample #: 199 reconstruction error: 0.059244\n",
      "Epoch: 0 batch #: 39  of 300 sample #: 199 reconstruction error: 0.090766\n",
      "Epoch: 0 batch #: 40  of 300 sample #: 199 reconstruction error: 0.124539\n",
      "Epoch: 0 batch #: 41  of 300 sample #: 199 reconstruction error: 0.077383\n",
      "Epoch: 0 batch #: 42  of 300 sample #: 199 reconstruction error: 0.074748\n",
      "Epoch: 0 batch #: 43  of 300 sample #: 199 reconstruction error: 0.121492\n",
      "Epoch: 0 batch #: 44  of 300 sample #: 199 reconstruction error: 0.084780\n",
      "Epoch: 0 batch #: 45  of 300 sample #: 199 reconstruction error: 0.055970\n",
      "Epoch: 0 batch #: 46  of 300 sample #: 199 reconstruction error: 0.035868\n",
      "Epoch: 0 batch #: 47  of 300 sample #: 199 reconstruction error: 0.042516\n",
      "Epoch: 0 batch #: 48  of 300 sample #: 199 reconstruction error: 0.031658\n",
      "Epoch: 0 batch #: 49  of 300 sample #: 199 reconstruction error: 0.136228\n",
      "Epoch: 0 batch #: 50  of 300 sample #: 199 reconstruction error: 0.049562\n",
      "Epoch: 0 batch #: 51  of 300 sample #: 199 reconstruction error: 0.060585\n",
      "Epoch: 0 batch #: 52  of 300 sample #: 199 reconstruction error: 0.030008\n",
      "Epoch: 0 batch #: 53  of 300 sample #: 199 reconstruction error: 0.111139\n",
      "Epoch: 0 batch #: 54  of 300 sample #: 199 reconstruction error: 0.051859\n",
      "Epoch: 0 batch #: 55  of 300 sample #: 199 reconstruction error: 0.104442\n",
      "Epoch: 0 batch #: 56  of 300 sample #: 199 reconstruction error: 0.065834\n",
      "Epoch: 0 batch #: 57  of 300 sample #: 199 reconstruction error: 0.046114\n",
      "Epoch: 0 batch #: 58  of 300 sample #: 199 reconstruction error: 0.080715\n",
      "Epoch: 0 batch #: 59  of 300 sample #: 199 reconstruction error: 0.054625\n",
      "Epoch: 0 batch #: 60  of 300 sample #: 199 reconstruction error: 0.109576\n",
      "Epoch: 0 batch #: 61  of 300 sample #: 199 reconstruction error: 0.071403\n",
      "Epoch: 0 batch #: 62  of 300 sample #: 199 reconstruction error: 0.082149\n",
      "Epoch: 0 batch #: 63  of 300 sample #: 199 reconstruction error: 0.060488\n",
      "Epoch: 0 batch #: 64  of 300 sample #: 199 reconstruction error: 0.079460\n",
      "Epoch: 0 batch #: 65  of 300 sample #: 199 reconstruction error: 0.089326\n",
      "Epoch: 0 batch #: 66  of 300 sample #: 199 reconstruction error: 0.061936\n",
      "Epoch: 0 batch #: 67  of 300 sample #: 199 reconstruction error: 0.041982\n",
      "Epoch: 0 batch #: 68  of 300 sample #: 199 reconstruction error: 0.047607\n",
      "Epoch: 0 batch #: 69  of 300 sample #: 199 reconstruction error: 0.089615\n",
      "Epoch: 0 batch #: 70  of 300 sample #: 199 reconstruction error: 0.082733\n",
      "Epoch: 0 batch #: 71  of 300 sample #: 199 reconstruction error: 0.091141\n",
      "Epoch: 0 batch #: 72  of 300 sample #: 199 reconstruction error: 0.066282\n",
      "Epoch: 0 batch #: 73  of 300 sample #: 199 reconstruction error: 0.086403\n",
      "Epoch: 0 batch #: 74  of 300 sample #: 199 reconstruction error: 0.086561\n",
      "Epoch: 0 batch #: 75  of 300 sample #: 199 reconstruction error: 0.045227\n",
      "Epoch: 0 batch #: 76  of 300 sample #: 199 reconstruction error: 0.075360\n",
      "Epoch: 0 batch #: 77  of 300 sample #: 199 reconstruction error: 0.117585\n",
      "Epoch: 0 batch #: 78  of 300 sample #: 199 reconstruction error: 0.113988\n",
      "Epoch: 0 batch #: 79  of 300 sample #: 199 reconstruction error: 0.108467\n",
      "Epoch: 0 batch #: 80  of 300 sample #: 199 reconstruction error: 0.035657\n",
      "Epoch: 0 batch #: 81  of 300 sample #: 199 reconstruction error: 0.049399\n",
      "Epoch: 0 batch #: 82  of 300 sample #: 199 reconstruction error: 0.053110\n",
      "Epoch: 0 batch #: 83  of 300 sample #: 199 reconstruction error: 0.082732\n",
      "Epoch: 0 batch #: 84  of 300 sample #: 199 reconstruction error: 0.080069\n",
      "Epoch: 0 batch #: 85  of 300 sample #: 199 reconstruction error: 0.044012\n",
      "Epoch: 0 batch #: 86  of 300 sample #: 199 reconstruction error: 0.067271\n",
      "Epoch: 0 batch #: 87  of 300 sample #: 199 reconstruction error: 0.077636\n",
      "Epoch: 0 batch #: 88  of 300 sample #: 199 reconstruction error: 0.028722\n",
      "Epoch: 0 batch #: 89  of 300 sample #: 199 reconstruction error: 0.067567\n",
      "Epoch: 0 batch #: 90  of 300 sample #: 199 reconstruction error: 0.069367\n",
      "Epoch: 0 batch #: 91  of 300 sample #: 199 reconstruction error: 0.060961\n",
      "Epoch: 0 batch #: 92  of 300 sample #: 199 reconstruction error: 0.065713\n",
      "Epoch: 0 batch #: 93  of 300 sample #: 199 reconstruction error: 0.123411\n",
      "Epoch: 0 batch #: 94  of 300 sample #: 199 reconstruction error: 0.116071\n",
      "Epoch: 0 batch #: 95  of 300 sample #: 199 reconstruction error: 0.060303\n",
      "Epoch: 0 batch #: 96  of 300 sample #: 199 reconstruction error: 0.047988\n",
      "Epoch: 0 batch #: 97  of 300 sample #: 199 reconstruction error: 0.108461\n",
      "Epoch: 0 batch #: 98  of 300 sample #: 199 reconstruction error: 0.078565\n",
      "Epoch: 0 batch #: 99  of 300 sample #: 199 reconstruction error: 0.058106\n",
      "Epoch: 0 batch #: 100  of 300 sample #: 199 reconstruction error: 0.101160\n",
      "Epoch: 0 batch #: 101  of 300 sample #: 199 reconstruction error: 0.076998\n",
      "Epoch: 0 batch #: 102  of 300 sample #: 199 reconstruction error: 0.074209\n",
      "Epoch: 0 batch #: 103  of 300 sample #: 199 reconstruction error: 0.093550\n",
      "Epoch: 0 batch #: 104  of 300 sample #: 199 reconstruction error: 0.071933\n",
      "Epoch: 0 batch #: 105  of 300 sample #: 199 reconstruction error: 0.062622\n",
      "Epoch: 0 batch #: 106  of 300 sample #: 199 reconstruction error: 0.113415\n",
      "Epoch: 0 batch #: 107  of 300 sample #: 199 reconstruction error: 0.135822\n",
      "Epoch: 0 batch #: 108  of 300 sample #: 199 reconstruction error: 0.047468\n",
      "Epoch: 0 batch #: 109  of 300 sample #: 199 reconstruction error: 0.104553\n",
      "Epoch: 0 batch #: 110  of 300 sample #: 199 reconstruction error: 0.060422\n",
      "Epoch: 0 batch #: 111  of 300 sample #: 199 reconstruction error: 0.089692\n",
      "Epoch: 0 batch #: 112  of 300 sample #: 199 reconstruction error: 0.045883\n",
      "Epoch: 0 batch #: 113  of 300 sample #: 199 reconstruction error: 0.067856\n",
      "Epoch: 0 batch #: 114  of 300 sample #: 199 reconstruction error: 0.066151\n",
      "Epoch: 0 batch #: 115  of 300 sample #: 199 reconstruction error: 0.051027\n",
      "Epoch: 0 batch #: 116  of 300 sample #: 199 reconstruction error: 0.048549\n",
      "Epoch: 0 batch #: 117  of 300 sample #: 199 reconstruction error: 0.047389\n",
      "Epoch: 0 batch #: 118  of 300 sample #: 199 reconstruction error: 0.068158\n",
      "Epoch: 0 batch #: 119  of 300 sample #: 199 reconstruction error: 0.137964\n",
      "Epoch: 0 batch #: 120  of 300 sample #: 199 reconstruction error: 0.082163\n",
      "Epoch: 0 batch #: 121  of 300 sample #: 199 reconstruction error: 0.048325\n",
      "Epoch: 0 batch #: 122  of 300 sample #: 199 reconstruction error: 0.081745\n",
      "Epoch: 0 batch #: 123  of 300 sample #: 199 reconstruction error: 0.068034\n",
      "Epoch: 0 batch #: 124  of 300 sample #: 199 reconstruction error: 0.068377\n",
      "Epoch: 0 batch #: 125  of 300 sample #: 199 reconstruction error: 0.050738\n",
      "Epoch: 0 batch #: 126  of 300 sample #: 199 reconstruction error: 0.108407\n",
      "Epoch: 0 batch #: 127  of 300 sample #: 199 reconstruction error: 0.090120\n",
      "Epoch: 0 batch #: 128  of 300 sample #: 199 reconstruction error: 0.064245\n",
      "Epoch: 0 batch #: 129  of 300 sample #: 199 reconstruction error: 0.056622\n",
      "Epoch: 0 batch #: 130  of 300 sample #: 199 reconstruction error: 0.066055\n",
      "Epoch: 0 batch #: 131  of 300 sample #: 199 reconstruction error: 0.064713\n",
      "Epoch: 0 batch #: 132  of 300 sample #: 199 reconstruction error: 0.042529\n",
      "Epoch: 0 batch #: 133  of 300 sample #: 199 reconstruction error: 0.064758\n",
      "Epoch: 0 batch #: 134  of 300 sample #: 199 reconstruction error: 0.101444\n",
      "Epoch: 0 batch #: 135  of 300 sample #: 199 reconstruction error: 0.112506\n",
      "Epoch: 0 batch #: 136  of 300 sample #: 199 reconstruction error: 0.105636\n",
      "Epoch: 0 batch #: 137  of 300 sample #: 199 reconstruction error: 0.069546\n",
      "Epoch: 0 batch #: 138  of 300 sample #: 199 reconstruction error: 0.071482\n",
      "Epoch: 0 batch #: 139  of 300 sample #: 199 reconstruction error: 0.100226\n",
      "Epoch: 0 batch #: 140  of 300 sample #: 199 reconstruction error: 0.080823\n",
      "Epoch: 0 batch #: 141  of 300 sample #: 199 reconstruction error: 0.072911\n",
      "Epoch: 0 batch #: 142  of 300 sample #: 199 reconstruction error: 0.065998\n",
      "Epoch: 0 batch #: 143  of 300 sample #: 199 reconstruction error: 0.046782\n",
      "Epoch: 0 batch #: 144  of 300 sample #: 199 reconstruction error: 0.055928\n",
      "Epoch: 0 batch #: 145  of 300 sample #: 199 reconstruction error: 0.103601\n",
      "Epoch: 0 batch #: 146  of 300 sample #: 199 reconstruction error: 0.089154\n",
      "Epoch: 0 batch #: 147  of 300 sample #: 199 reconstruction error: 0.077263\n",
      "Epoch: 0 batch #: 148  of 300 sample #: 199 reconstruction error: 0.072433\n",
      "Epoch: 0 batch #: 149  of 300 sample #: 199 reconstruction error: 0.059253\n",
      "Epoch: 0 batch #: 150  of 300 sample #: 199 reconstruction error: 0.046056\n",
      "Epoch: 0 batch #: 151  of 300 sample #: 199 reconstruction error: 0.105421\n",
      "Epoch: 0 batch #: 152  of 300 sample #: 199 reconstruction error: 0.087666\n",
      "Epoch: 0 batch #: 153  of 300 sample #: 199 reconstruction error: 0.054110\n",
      "Epoch: 0 batch #: 154  of 300 sample #: 199 reconstruction error: 0.076773\n",
      "Epoch: 0 batch #: 155  of 300 sample #: 199 reconstruction error: 0.071787\n",
      "Epoch: 0 batch #: 156  of 300 sample #: 199 reconstruction error: 0.080009\n",
      "Epoch: 0 batch #: 157  of 300 sample #: 199 reconstruction error: 0.089768\n",
      "Epoch: 0 batch #: 158  of 300 sample #: 199 reconstruction error: 0.063442\n",
      "Epoch: 0 batch #: 159  of 300 sample #: 199 reconstruction error: 0.075198\n",
      "Epoch: 0 batch #: 160  of 300 sample #: 199 reconstruction error: 0.073109\n",
      "Epoch: 0 batch #: 161  of 300 sample #: 199 reconstruction error: 0.074692\n",
      "Epoch: 0 batch #: 162  of 300 sample #: 199 reconstruction error: 0.119521\n",
      "Epoch: 0 batch #: 163  of 300 sample #: 199 reconstruction error: 0.053587\n",
      "Epoch: 0 batch #: 164  of 300 sample #: 199 reconstruction error: 0.059638\n",
      "Epoch: 0 batch #: 165  of 300 sample #: 199 reconstruction error: 0.076558\n",
      "Epoch: 0 batch #: 166  of 300 sample #: 199 reconstruction error: 0.060420\n",
      "Epoch: 0 batch #: 167  of 300 sample #: 199 reconstruction error: 0.108178\n",
      "Epoch: 0 batch #: 168  of 300 sample #: 199 reconstruction error: 0.043489\n",
      "Epoch: 0 batch #: 169  of 300 sample #: 199 reconstruction error: 0.041633\n",
      "Epoch: 0 batch #: 170  of 300 sample #: 199 reconstruction error: 0.052221\n",
      "Epoch: 0 batch #: 171  of 300 sample #: 199 reconstruction error: 0.031386\n",
      "Epoch: 0 batch #: 172  of 300 sample #: 199 reconstruction error: 0.064247\n",
      "Epoch: 0 batch #: 173  of 300 sample #: 199 reconstruction error: 0.088505\n",
      "Epoch: 0 batch #: 174  of 300 sample #: 199 reconstruction error: 0.088500\n",
      "Epoch: 0 batch #: 175  of 300 sample #: 199 reconstruction error: 0.075929\n",
      "Epoch: 0 batch #: 176  of 300 sample #: 199 reconstruction error: 0.050428\n",
      "Epoch: 0 batch #: 177  of 300 sample #: 199 reconstruction error: 0.036897\n",
      "Epoch: 0 batch #: 178  of 300 sample #: 199 reconstruction error: 0.126719\n",
      "Epoch: 0 batch #: 179  of 300 sample #: 199 reconstruction error: 0.068567\n",
      "Epoch: 0 batch #: 180  of 300 sample #: 199 reconstruction error: 0.105190\n",
      "Epoch: 0 batch #: 181  of 300 sample #: 199 reconstruction error: 0.080987\n",
      "Epoch: 0 batch #: 182  of 300 sample #: 199 reconstruction error: 0.083819\n",
      "Epoch: 0 batch #: 183  of 300 sample #: 199 reconstruction error: 0.094403\n",
      "Epoch: 0 batch #: 184  of 300 sample #: 199 reconstruction error: 0.066114\n",
      "Epoch: 0 batch #: 185  of 300 sample #: 199 reconstruction error: 0.072223\n",
      "Epoch: 0 batch #: 186  of 300 sample #: 199 reconstruction error: 0.098817\n",
      "Epoch: 0 batch #: 187  of 300 sample #: 199 reconstruction error: 0.053457\n",
      "Epoch: 0 batch #: 188  of 300 sample #: 199 reconstruction error: 0.120854\n",
      "Epoch: 0 batch #: 189  of 300 sample #: 199 reconstruction error: 0.070053\n",
      "Epoch: 0 batch #: 190  of 300 sample #: 199 reconstruction error: 0.059101\n",
      "Epoch: 0 batch #: 191  of 300 sample #: 199 reconstruction error: 0.104668\n",
      "Epoch: 0 batch #: 192  of 300 sample #: 199 reconstruction error: 0.115777\n",
      "Epoch: 0 batch #: 193  of 300 sample #: 199 reconstruction error: 0.084841\n",
      "Epoch: 0 batch #: 194  of 300 sample #: 199 reconstruction error: 0.075858\n",
      "Epoch: 0 batch #: 195  of 300 sample #: 199 reconstruction error: 0.038710\n",
      "Epoch: 0 batch #: 196  of 300 sample #: 199 reconstruction error: 0.045337\n",
      "Epoch: 0 batch #: 197  of 300 sample #: 199 reconstruction error: 0.056420\n",
      "Epoch: 0 batch #: 198  of 300 sample #: 199 reconstruction error: 0.086157\n",
      "Epoch: 0 batch #: 199  of 300 sample #: 199 reconstruction error: 0.072931\n",
      "Epoch: 0 batch #: 200  of 300 sample #: 199 reconstruction error: 0.112885\n",
      "Epoch: 0 batch #: 201  of 300 sample #: 199 reconstruction error: 0.105408\n",
      "Epoch: 0 batch #: 202  of 300 sample #: 199 reconstruction error: 0.027248\n",
      "Epoch: 0 batch #: 203  of 300 sample #: 199 reconstruction error: 0.083384\n",
      "Epoch: 0 batch #: 204  of 300 sample #: 199 reconstruction error: 0.045722\n",
      "Epoch: 0 batch #: 205  of 300 sample #: 199 reconstruction error: 0.022146\n",
      "Epoch: 0 batch #: 206  of 300 sample #: 199 reconstruction error: 0.068024\n",
      "Epoch: 0 batch #: 207  of 300 sample #: 199 reconstruction error: 0.087260\n",
      "Epoch: 0 batch #: 208  of 300 sample #: 199 reconstruction error: 0.063414\n",
      "Epoch: 0 batch #: 209  of 300 sample #: 199 reconstruction error: 0.032487\n",
      "Epoch: 0 batch #: 210  of 300 sample #: 199 reconstruction error: 0.104719\n",
      "Epoch: 0 batch #: 211  of 300 sample #: 199 reconstruction error: 0.102568\n",
      "Epoch: 0 batch #: 212  of 300 sample #: 199 reconstruction error: 0.108937\n",
      "Epoch: 0 batch #: 213  of 300 sample #: 199 reconstruction error: 0.102959\n",
      "Epoch: 0 batch #: 214  of 300 sample #: 199 reconstruction error: 0.114489\n",
      "Epoch: 0 batch #: 215  of 300 sample #: 199 reconstruction error: 0.029332\n",
      "Epoch: 0 batch #: 216  of 300 sample #: 199 reconstruction error: 0.101497\n",
      "Epoch: 0 batch #: 217  of 300 sample #: 199 reconstruction error: 0.093156\n",
      "Epoch: 0 batch #: 218  of 300 sample #: 199 reconstruction error: 0.062474\n",
      "Epoch: 0 batch #: 219  of 300 sample #: 199 reconstruction error: 0.092995\n",
      "Epoch: 0 batch #: 220  of 300 sample #: 199 reconstruction error: 0.059030\n",
      "Epoch: 0 batch #: 221  of 300 sample #: 199 reconstruction error: 0.106035\n",
      "Epoch: 0 batch #: 222  of 300 sample #: 199 reconstruction error: 0.088462\n",
      "Epoch: 0 batch #: 223  of 300 sample #: 199 reconstruction error: 0.066641\n",
      "Epoch: 0 batch #: 224  of 300 sample #: 199 reconstruction error: 0.062355\n",
      "Epoch: 0 batch #: 225  of 300 sample #: 199 reconstruction error: 0.073194\n",
      "Epoch: 0 batch #: 226  of 300 sample #: 199 reconstruction error: 0.127442\n",
      "Epoch: 0 batch #: 227  of 300 sample #: 199 reconstruction error: 0.082088\n",
      "Epoch: 0 batch #: 228  of 300 sample #: 199 reconstruction error: 0.067871\n",
      "Epoch: 0 batch #: 229  of 300 sample #: 199 reconstruction error: 0.079181\n",
      "Epoch: 0 batch #: 230  of 300 sample #: 199 reconstruction error: 0.040911\n",
      "Epoch: 0 batch #: 231  of 300 sample #: 199 reconstruction error: 0.028405\n",
      "Epoch: 0 batch #: 232  of 300 sample #: 199 reconstruction error: 0.068083\n",
      "Epoch: 0 batch #: 233  of 300 sample #: 199 reconstruction error: 0.066554\n",
      "Epoch: 0 batch #: 234  of 300 sample #: 199 reconstruction error: 0.059185\n",
      "Epoch: 0 batch #: 235  of 300 sample #: 199 reconstruction error: 0.084596\n",
      "Epoch: 0 batch #: 236  of 300 sample #: 199 reconstruction error: 0.084330\n",
      "Epoch: 0 batch #: 237  of 300 sample #: 199 reconstruction error: 0.067130\n",
      "Epoch: 0 batch #: 238  of 300 sample #: 199 reconstruction error: 0.128446\n",
      "Epoch: 0 batch #: 239  of 300 sample #: 199 reconstruction error: 0.030621\n",
      "Epoch: 0 batch #: 240  of 300 sample #: 199 reconstruction error: 0.096596\n",
      "Epoch: 0 batch #: 241  of 300 sample #: 199 reconstruction error: 0.062327\n",
      "Epoch: 0 batch #: 242  of 300 sample #: 199 reconstruction error: 0.071065\n",
      "Epoch: 0 batch #: 243  of 300 sample #: 199 reconstruction error: 0.064368\n",
      "Epoch: 0 batch #: 244  of 300 sample #: 199 reconstruction error: 0.083829\n",
      "Epoch: 0 batch #: 245  of 300 sample #: 199 reconstruction error: 0.065329\n",
      "Epoch: 0 batch #: 246  of 300 sample #: 199 reconstruction error: 0.100475\n",
      "Epoch: 0 batch #: 247  of 300 sample #: 199 reconstruction error: 0.042023\n",
      "Epoch: 0 batch #: 248  of 300 sample #: 199 reconstruction error: 0.069373\n",
      "Epoch: 0 batch #: 249  of 300 sample #: 199 reconstruction error: 0.045231\n",
      "Epoch: 0 batch #: 250  of 300 sample #: 199 reconstruction error: 0.097640\n",
      "Epoch: 0 batch #: 251  of 300 sample #: 199 reconstruction error: 0.045185\n",
      "Epoch: 0 batch #: 252  of 300 sample #: 199 reconstruction error: 0.062924\n",
      "Epoch: 0 batch #: 253  of 300 sample #: 199 reconstruction error: 0.048547\n",
      "Epoch: 0 batch #: 254  of 300 sample #: 199 reconstruction error: 0.033919\n",
      "Epoch: 0 batch #: 255  of 300 sample #: 199 reconstruction error: 0.057864\n",
      "Epoch: 0 batch #: 256  of 300 sample #: 199 reconstruction error: 0.080036\n",
      "Epoch: 0 batch #: 257  of 300 sample #: 199 reconstruction error: 0.088868\n",
      "Epoch: 0 batch #: 258  of 300 sample #: 199 reconstruction error: 0.088239\n",
      "Epoch: 0 batch #: 259  of 300 sample #: 199 reconstruction error: 0.058411\n",
      "Epoch: 0 batch #: 260  of 300 sample #: 199 reconstruction error: 0.093781\n",
      "Epoch: 0 batch #: 261  of 300 sample #: 199 reconstruction error: 0.036558\n",
      "Epoch: 0 batch #: 262  of 300 sample #: 199 reconstruction error: 0.067469\n",
      "Epoch: 0 batch #: 263  of 300 sample #: 199 reconstruction error: 0.099701\n",
      "Epoch: 0 batch #: 264  of 300 sample #: 199 reconstruction error: 0.086079\n",
      "Epoch: 0 batch #: 265  of 300 sample #: 199 reconstruction error: 0.071534\n",
      "Epoch: 0 batch #: 266  of 300 sample #: 199 reconstruction error: 0.038130\n",
      "Epoch: 0 batch #: 267  of 300 sample #: 199 reconstruction error: 0.058808\n",
      "Epoch: 0 batch #: 268  of 300 sample #: 199 reconstruction error: 0.026686\n",
      "Epoch: 0 batch #: 269  of 300 sample #: 199 reconstruction error: 0.083501\n",
      "Epoch: 0 batch #: 270  of 300 sample #: 199 reconstruction error: 0.061873\n",
      "Epoch: 0 batch #: 271  of 300 sample #: 199 reconstruction error: 0.048259\n",
      "Epoch: 0 batch #: 272  of 300 sample #: 199 reconstruction error: 0.053403\n",
      "Epoch: 0 batch #: 273  of 300 sample #: 199 reconstruction error: 0.042748\n",
      "Epoch: 0 batch #: 274  of 300 sample #: 199 reconstruction error: 0.048604\n",
      "Epoch: 0 batch #: 275  of 300 sample #: 199 reconstruction error: 0.095824\n",
      "Epoch: 0 batch #: 276  of 300 sample #: 199 reconstruction error: 0.065233\n",
      "Epoch: 0 batch #: 277  of 300 sample #: 199 reconstruction error: 0.071628\n",
      "Epoch: 0 batch #: 278  of 300 sample #: 199 reconstruction error: 0.061441\n",
      "Epoch: 0 batch #: 279  of 300 sample #: 199 reconstruction error: 0.054002\n",
      "Epoch: 0 batch #: 280  of 300 sample #: 199 reconstruction error: 0.071657\n",
      "Epoch: 0 batch #: 281  of 300 sample #: 199 reconstruction error: 0.069717\n",
      "Epoch: 0 batch #: 282  of 300 sample #: 199 reconstruction error: 0.115685\n",
      "Epoch: 0 batch #: 283  of 300 sample #: 199 reconstruction error: 0.048742\n",
      "Epoch: 0 batch #: 284  of 300 sample #: 199 reconstruction error: 0.056165\n",
      "Epoch: 0 batch #: 285  of 300 sample #: 199 reconstruction error: 0.063735\n",
      "Epoch: 0 batch #: 286  of 300 sample #: 199 reconstruction error: 0.084089\n",
      "Epoch: 0 batch #: 287  of 300 sample #: 199 reconstruction error: 0.078973\n",
      "Epoch: 0 batch #: 288  of 300 sample #: 199 reconstruction error: 0.037526\n",
      "Epoch: 0 batch #: 289  of 300 sample #: 199 reconstruction error: 0.092965\n",
      "Epoch: 0 batch #: 290  of 300 sample #: 199 reconstruction error: 0.096408\n",
      "Epoch: 0 batch #: 291  of 300 sample #: 199 reconstruction error: 0.090726\n",
      "Epoch: 0 batch #: 292  of 300 sample #: 199 reconstruction error: 0.083968\n",
      "Epoch: 0 batch #: 293  of 300 sample #: 199 reconstruction error: 0.055275\n",
      "Epoch: 0 batch #: 294  of 300 sample #: 199 reconstruction error: 0.087278\n",
      "Epoch: 0 batch #: 295  of 300 sample #: 199 reconstruction error: 0.065448\n",
      "Epoch: 0 batch #: 296  of 300 sample #: 199 reconstruction error: 0.027704\n",
      "Epoch: 0 batch #: 297  of 300 sample #: 199 reconstruction error: 0.105552\n",
      "Epoch: 0 batch #: 298  of 300 sample #: 199 reconstruction error: 0.050852\n",
      "Epoch: 0 batch #: 299  of 300 sample #: 199 reconstruction error: 0.047319\n",
      "Epoch: 0 batch #: 300  of 300 sample #: 199 reconstruction error: 0.084275\n"
     ]
    }
   ],
   "source": [
    "#Parameters\n",
    "alpha = 0.01\n",
    "epochs = 1\n",
    "batchsize = 200\n",
    "weights = []\n",
    "errors = []\n",
    "batch_number = 0\n",
    "K = 1\n",
    "\n",
    "#creating datasets\n",
    "train_ds = \\\n",
    "    tf.data.Dataset.from_tensor_slices((trX, trY)).batch(batchsize)\n",
    "\n",
    "for epoch in range(epochs):\n",
    "    for batch_x, batch_y in train_ds:\n",
    "        batch_number += 1\n",
    "        for i_sample in range(batchsize):           \n",
    "            for k in range(K):\n",
    "                v0_state = batch_x[i_sample]\n",
    "                h0_state = hidden_layer(v0_state, W, hb)\n",
    "                v1_state = reconstructed_output(h0_state, W, vb)\n",
    "                h1_state = hidden_layer(v1_state, W, hb)\n",
    "\n",
    "                delta_W = tf.matmul(tf.transpose([v0_state]), h0_state) - tf.matmul(tf.transpose([v1_state]), h1_state)\n",
    "                W = W + alpha * delta_W\n",
    "\n",
    "                vb = vb + alpha * tf.reduce_mean(v0_state - v1_state, 0)\n",
    "                hb = hb + alpha * tf.reduce_mean(h0_state - h1_state, 0) \n",
    "\n",
    "                v0_state = v1_state\n",
    "\n",
    "            if i_sample == batchsize-1:\n",
    "                err = error(batch_x[i_sample], v1_state)\n",
    "                errors.append(err)\n",
    "                weights.append(W)\n",
    "                print ( 'Epoch: %d' % epoch, \n",
    "                       \"batch #: %i \" % batch_number, \"of %i\" % int(60e3/batchsize), \n",
    "                       \"sample #: %i\" % i_sample,\n",
    "                       'reconstruction error: %f' % err)\n",
    "\n"
   ]
  },
  {
   "cell_type": "markdown",
   "metadata": {},
   "source": [
    "Let's take a look at the errors at the end of each batch:\n"
   ]
  },
  {
   "cell_type": "code",
   "execution_count": 27,
   "metadata": {
    "tags": []
   },
   "outputs": [
    {
     "data": {
      "image/png": "[encoded data removed]",
      "text/plain": [
       "<Figure size 640x480 with 1 Axes>"
      ]
     },
     "metadata": {},
     "output_type": "display_data"
    }
   ],
   "source": [
    "plt.plot(errors)\n",
    "plt.xlabel(\"Batch Number\")\n",
    "plt.ylabel(\"Error\")\n",
    "plt.show()"
   ]
  },
  {
   "cell_type": "markdown",
   "metadata": {},
   "source": [
    "What is the final weight matrix $W$ after training?\n"
   ]
  },
  {
   "cell_type": "code",
   "execution_count": 28,
   "metadata": {
    "tags": []
   },
   "outputs": [
    {
     "name": "stdout",
     "output_type": "stream",
     "text": [
      "[[-0.28       -0.44999984 -0.28       ... -0.20000002 -0.42999986\n",
      "  -0.23000003]\n",
      " [-0.21000002 -0.41999987 -0.22000003 ... -0.29999998 -0.5199998\n",
      "  -0.20000002]\n",
      " [-0.18       -0.3999999  -0.12999998 ... -0.21000002 -0.43999985\n",
      "  -0.18      ]\n",
      " ...\n",
      " [-0.22000003 -0.43999985 -0.20000002 ... -0.29999998 -0.5099998\n",
      "  -0.17      ]\n",
      " [-0.20000002 -0.44999984 -0.14999999 ... -0.21000002 -0.45999983\n",
      "  -0.25000003]\n",
      " [-0.20000002 -0.34999993 -0.19000001 ... -0.28       -0.44999984\n",
      "  -0.24000004]]\n"
     ]
    }
   ],
   "source": [
    "print(W.numpy()) # a weight matrix of shape (50,784)"
   ]
  },
  {
   "cell_type": "markdown",
   "metadata": {},
   "source": [
    "<a id=\"ref5\"></a>\n",
    "<h3>Learned features</h3> \n"
   ]
  },
  {
   "cell_type": "markdown",
   "metadata": {},
   "source": [
    "We can take each hidden unit and visualize the connections between that hidden unit and each element in the input vector. In our case, we have 50 hidden units. Lets visualize those.\n"
   ]
  },
  {
   "cell_type": "markdown",
   "metadata": {},
   "source": [
    "Let's plot the current weights:\n",
    "<b>tile_raster_images</b> helps in generating an easy to grasp image from a set of samples or weights. It transforms the <b>uw</b> (with one flattened image per row of size 784), into an array (of size $28\\times28$) in which images are reshaped and laid out like tiles on a floor.\n"
   ]
  },
  {
   "cell_type": "code",
   "execution_count": 32,
   "metadata": {
    "tags": []
   },
   "outputs": [
    {
     "data": {
      "image/png": "[encoded data removed]",
      "text/plain": [
       "<Figure size 1800x1800 with 1 Axes>"
      ]
     },
     "metadata": {},
     "output_type": "display_data"
    }
   ],
   "source": [
    "utils.tile_raster_images(X=W.numpy().T, img_shape=(28, 28), tile_shape=(5, 10), tile_spacing=(1, 1))\n",
    "import matplotlib.pyplot as plt\n",
    "from PIL import Image\n",
    "%matplotlib inline\n",
    "image = Image.fromarray(utils.tile_raster_images(X=W.numpy().T, img_shape=(28, 28) ,tile_shape=(5, 10), tile_spacing=(1, 1)))\n",
    "### Plot image\n",
    "plt.rcParams['figure.figsize'] = (18.0, 18.0)\n",
    "imgplot = plt.imshow(image)\n",
    "imgplot.set_cmap('gray')  "
   ]
  },
  {
   "cell_type": "markdown",
   "metadata": {},
   "source": [
    "Each tile in the above visualization corresponds to a vector of connections between a hidden unit and visible layer's units. \n"
   ]
  },
  {
   "cell_type": "markdown",
   "metadata": {},
   "source": [
    "Let's look at one of the learned weights corresponding to one of hidden units for example. In this particular square, the gray color represents weight = 0, and the whiter it is, the more positive the weights are (closer to 1). Conversely, the darker pixels are, the more negative the weights. The positive pixels will increase the probability of activation in hidden units (after multiplying by input/visible pixels), and negative pixels will decrease the probability of a unit hidden to be 1 (activated). So, why is this important?  So we can see that this specific square (hidden unit) can detect a feature (e.g. a \"/\" shape) and if it exists in the input.\n"
   ]
  },
  {
   "cell_type": "code",
   "execution_count": 34,
   "metadata": {
    "tags": []
   },
   "outputs": [
    {
     "data": {
      "image/png": "[encoded data removed]",
      "text/plain": [
       "<Figure size 400x400 with 1 Axes>"
      ]
     },
     "metadata": {},
     "output_type": "display_data"
    }
   ],
   "source": [
    "from PIL import Image\n",
    "image = Image.fromarray(utils.tile_raster_images(X =W.numpy().T[10:11], img_shape=(28, 28),tile_shape=(1, 1), tile_spacing=(1, 1)))\n",
    "### Plot image\n",
    "plt.rcParams['figure.figsize'] = (4.0, 4.0)\n",
    "imgplot = plt.imshow(image)\n",
    "imgplot.set_cmap('gray')  "
   ]
  },
  {
   "cell_type": "markdown",
   "metadata": {},
   "source": [
    "Let's look at the reconstruction of an image now. Imagine that we have a destructed image of figure 3. Lets see if our trained network can fix it:\n",
    "\n",
    "First we plot the image:\n"
   ]
  },
  {
   "cell_type": "code",
   "execution_count": 35,
   "metadata": {
    "tags": []
   },
   "outputs": [
    {
     "name": "stdout",
     "output_type": "stream",
     "text": [
      "--2023-05-15 16:50:01--  https://ibm.box.com/shared/static/vvm1b63uvuxq88vbw9znpwu5ol380mco.jpg\n",
      "Resolving ibm.box.com (ibm.box.com)... 74.112.186.144\n",
      "Connecting to ibm.box.com (ibm.box.com)|74.112.186.144|:443... connected.\n",
      "HTTP request sent, awaiting response... 301 Moved Permanently\n",
      "Cookie coming from ibm.box.com attempted to set domain to box.net\n",
      "Location: /public/static/vvm1b63uvuxq88vbw9znpwu5ol380mco.jpg [following]\n",
      "--2023-05-15 16:50:01--  https://ibm.box.com/public/static/vvm1b63uvuxq88vbw9znpwu5ol380mco.jpg\n",
      "Reusing existing connection to ibm.box.com:443.\n",
      "HTTP request sent, awaiting response... 301 Moved Permanently\n",
      "Cookie coming from ibm.box.com attempted to set domain to box.net\n",
      "Location: https://ibm.ent.box.com/public/static/vvm1b63uvuxq88vbw9znpwu5ol380mco.jpg [following]\n",
      "--2023-05-15 16:50:02--  https://ibm.ent.box.com/public/static/vvm1b63uvuxq88vbw9znpwu5ol380mco.jpg\n",
      "Resolving ibm.ent.box.com (ibm.ent.box.com)... 74.112.186.144\n",
      "Connecting to ibm.ent.box.com (ibm.ent.box.com)|74.112.186.144|:443... connected.\n",
      "HTTP request sent, awaiting response... 302 Found\n",
      "Cookie coming from ibm.ent.box.com attempted to set domain to box.net\n",
      "Location: https://public.boxcloud.com/d/1/b1!hEdqfLnzT_HAbjGQbijaH6Rr4I2K5aXjuYeR7KCcIwAae-YS4PPg0kp3dDAaMZDhIXheJI2JIa7MtDnCG0ISc2npA4gOFosZVUBClrOUdI13VrZp5VYFfk5ZeRFCUgveB8ikrI2zphQPMse0s-p2JM7cYsk4dzBlFsYP-kvoutYoES5-PxZUZBZ92zdJXFZ5Qn17H8ugmmK5cFLjVnkmHKQFFGWZzIRp6EeN3ZW6bR9o_X3qMOeQGlz50ScytitTHenDmfvg1JlkoZKLtjEdUQU6eBrNU-JvAJx0HuLhl73vPMtRKXZhqqG047XU1JC-_wBn1pH2m34gk0WwJi5Ltj1kYhfOYgj3jD3iGSXhGtlhH1PEIYi4L5-0xT3Hmpr611Dt3GKcot7EU54WoqQQJfEBcURaNNvyyP7r72WK0cKEsrw83W0ow9zHwL1zllVc8iZnUeaOtseCiZMhurH6eZetr66UxLG6AVWJTrouEeJeyTvaQnb0Jkg_w5zF01yMrosCAnGAgiER3psQeCYXvyuu_E9GMcYFwrhZ3qhhP2Q6NFi5-8jrfG7606U5BPeICoaxTE6crSW3TTmJU8VmwQVWJ7UCPMD9OssecD_kguNX4pj69zrGrFTuRhWnWuulQeGHjK4B9yrzCi3_PlgTecm8WFKbsqnZKrVuffdtJBclDZ4pNwnnlAvBEi1nMLlzekaMn7vtT7LbWtCS63EBEhVahk1EG85-urR3AQ0SWyhlW-gcbsoAh0-IMtCDL0x9wYOlnxzRcw1oMWq4Jy6-8GQix7XbqkJAAH6_OTO0aX5LDZ_5iDk0xWch4RrW5kc1D7d581NbE4hXKgp8CgWitOWycKs8uUiWEYNlBLBIIIN9nIvbYr2XrrJe3gZLdGsJzuRtIaZx8plHhRCxoIq2TWahIUf9BUSqAoDAChSo-KYURa3S2KsHvd7qI8MrKOHkg3Fw3_Dna0kCeMZNpuin1VytzHQMaPvn4ODJ4vaLUSkQE8PZjA0wZPssotKqBZjGwMVqk9jL5e-t9M08uugGBqlOYjuVOWhNlFOVrX5f0YFwXh3monNA180JUNCj4E6uyIJBuMRM5FftYoEMUkc6Zhq0lROc6wQG7G1BgS-0D93th_Z_royAcwle5_A_mSgKeVSN4BTHf55e85zYEWT-PWUELWgXWWgm3yRDUb8jHnERXRZPn1etFl-rywIrB8jLnKDzceeLG2AbiUTz6OD3gHVIkasA0mFfzzSOBUdP7GN7XhPh2LzgPVueyF3LoRkKH25fQu4TbEbyySB2kvrvLXSpN-jFbAbjLour4dVipyd9HuPDII782r01diXyhV-xQnzhgSAlgAqkWkreMiviqptCsNDU2po2kRGQQ-WmfWWtOQdyKRpINI949ZAP9oEEmaD_BEcIoEtPl6UU1RUhIRTVn0f6V8M9-xXVSA../download [following]\n",
      "--2023-05-15 16:50:02--  https://public.boxcloud.com/d/1/b1!hEdqfLnzT_HAbjGQbijaH6Rr4I2K5aXjuYeR7KCcIwAae-YS4PPg0kp3dDAaMZDhIXheJI2JIa7MtDnCG0ISc2npA4gOFosZVUBClrOUdI13VrZp5VYFfk5ZeRFCUgveB8ikrI2zphQPMse0s-p2JM7cYsk4dzBlFsYP-kvoutYoES5-PxZUZBZ92zdJXFZ5Qn17H8ugmmK5cFLjVnkmHKQFFGWZzIRp6EeN3ZW6bR9o_X3qMOeQGlz50ScytitTHenDmfvg1JlkoZKLtjEdUQU6eBrNU-JvAJx0HuLhl73vPMtRKXZhqqG047XU1JC-_wBn1pH2m34gk0WwJi5Ltj1kYhfOYgj3jD3iGSXhGtlhH1PEIYi4L5-0xT3Hmpr611Dt3GKcot7EU54WoqQQJfEBcURaNNvyyP7r72WK0cKEsrw83W0ow9zHwL1zllVc8iZnUeaOtseCiZMhurH6eZetr66UxLG6AVWJTrouEeJeyTvaQnb0Jkg_w5zF01yMrosCAnGAgiER3psQeCYXvyuu_E9GMcYFwrhZ3qhhP2Q6NFi5-8jrfG7606U5BPeICoaxTE6crSW3TTmJU8VmwQVWJ7UCPMD9OssecD_kguNX4pj69zrGrFTuRhWnWuulQeGHjK4B9yrzCi3_PlgTecm8WFKbsqnZKrVuffdtJBclDZ4pNwnnlAvBEi1nMLlzekaMn7vtT7LbWtCS63EBEhVahk1EG85-urR3AQ0SWyhlW-gcbsoAh0-IMtCDL0x9wYOlnxzRcw1oMWq4Jy6-8GQix7XbqkJAAH6_OTO0aX5LDZ_5iDk0xWch4RrW5kc1D7d581NbE4hXKgp8CgWitOWycKs8uUiWEYNlBLBIIIN9nIvbYr2XrrJe3gZLdGsJzuRtIaZx8plHhRCxoIq2TWahIUf9BUSqAoDAChSo-KYURa3S2KsHvd7qI8MrKOHkg3Fw3_Dna0kCeMZNpuin1VytzHQMaPvn4ODJ4vaLUSkQE8PZjA0wZPssotKqBZjGwMVqk9jL5e-t9M08uugGBqlOYjuVOWhNlFOVrX5f0YFwXh3monNA180JUNCj4E6uyIJBuMRM5FftYoEMUkc6Zhq0lROc6wQG7G1BgS-0D93th_Z_royAcwle5_A_mSgKeVSN4BTHf55e85zYEWT-PWUELWgXWWgm3yRDUb8jHnERXRZPn1etFl-rywIrB8jLnKDzceeLG2AbiUTz6OD3gHVIkasA0mFfzzSOBUdP7GN7XhPh2LzgPVueyF3LoRkKH25fQu4TbEbyySB2kvrvLXSpN-jFbAbjLour4dVipyd9HuPDII782r01diXyhV-xQnzhgSAlgAqkWkreMiviqptCsNDU2po2kRGQQ-WmfWWtOQdyKRpINI949ZAP9oEEmaD_BEcIoEtPl6UU1RUhIRTVn0f6V8M9-xXVSA../download\n",
      "Resolving public.boxcloud.com (public.boxcloud.com)... 74.112.186.128\n",
      "Connecting to public.boxcloud.com (public.boxcloud.com)|74.112.186.128|:443... connected.\n",
      "HTTP request sent, awaiting response... 200 OK\n",
      "Length: 24383 (24K) [image/jpeg]\n",
      "Saving to: ‘destructed3.jpg’\n",
      "\n",
      "destructed3.jpg     100%[===================>]  23.81K  --.-KB/s    in 0.002s  \n",
      "\n",
      "2023-05-15 16:50:03 (13.3 MB/s) - ‘destructed3.jpg’ saved [24383/24383]\n",
      "\n"
     ]
    },
    {
     "data": {
      "image/png": "[encoded data removed]",
      "text/plain": [
       "<PIL.JpegImagePlugin.JpegImageFile image mode=RGB size=181x181 at 0x7F1CA349C810>"
      ]
     },
     "execution_count": 35,
     "metadata": {},
     "output_type": "execute_result"
    }
   ],
   "source": [
    "!wget -O destructed3.jpg  https://ibm.box.com/shared/static/vvm1b63uvuxq88vbw9znpwu5ol380mco.jpg\n",
    "img = Image.open('destructed3.jpg')\n",
    "img"
   ]
  },
  {
   "cell_type": "markdown",
   "metadata": {},
   "source": [
    "Now let's pass this image through the neural net:\n"
   ]
  },
  {
   "cell_type": "code",
   "execution_count": 36,
   "metadata": {
    "tags": []
   },
   "outputs": [],
   "source": [
    "# convert the image to a 1d numpy array\n",
    "sample_case = np.array(img.convert('I').resize((28,28))).ravel().reshape((1, -1))/255.0\n",
    "\n",
    "sample_case = tf.cast(sample_case, dtype=tf.float32)"
   ]
  },
  {
   "cell_type": "markdown",
   "metadata": {},
   "source": [
    "Feed the sample case into the network and reconstruct the output:\n"
   ]
  },
  {
   "cell_type": "code",
   "execution_count": 37,
   "metadata": {
    "tags": []
   },
   "outputs": [
    {
     "name": "stdout",
     "output_type": "stream",
     "text": [
      "Probability nodes in hidden layer: tf.Tensor(\n",
      "[[3.0982494e-06 4.4438243e-04 1.0780488e-05 4.9522993e-18 1.0000000e+00\n",
      "  2.8264790e-06 4.2186606e-08 9.9999571e-01 9.0414667e-01 6.8117739e-13\n",
      "  6.3512943e-13 1.0000000e+00 6.0230196e-03 1.9590259e-03 1.0000000e+00\n",
      "  1.7421420e-10 2.4550927e-06 2.0560115e-15 2.3976167e-08 9.9697459e-01\n",
      "  2.2476790e-08 8.9458940e-11 2.5396737e-11 8.1829530e-01 9.9945688e-01\n",
      "  9.9998939e-01 4.2150474e-01 4.5056259e-12 6.3738090e-12 8.6009502e-04\n",
      "  8.8218381e-05 8.9210474e-08 9.9751848e-01 5.4501469e-11 8.8544693e-06\n",
      "  1.0000000e+00 1.0000000e+00 4.8251336e-09 9.9864674e-01 1.3607177e-01\n",
      "  4.1196598e-13 2.6587605e-02 9.9998462e-01 9.9999934e-01 7.8577995e-03\n",
      "  9.8953724e-01 6.9420445e-01 8.9719714e-07 9.9993312e-01 9.3137729e-01]], shape=(1, 50), dtype=float32)\n",
      "activated nodes in hidden layer: tf.Tensor(\n",
      "[[0. 0. 0. 0. 1. 0. 0. 1. 1. 0. 0. 1. 0. 0. 1. 0. 0. 0. 0. 1. 0. 0. 0. 1.\n",
      "  1. 1. 0. 0. 0. 0. 0. 0. 1. 0. 0. 1. 1. 0. 1. 0. 0. 0. 1. 1. 0. 1. 1. 0.\n",
      "  1. 1.]], shape=(1, 50), dtype=float32)\n",
      "tf.Tensor(\n",
      "[[1.22844183e-04 1.45584345e-04 2.62618065e-04 2.17229128e-04\n",
      "  1.22844183e-04 1.34527683e-04 1.54584646e-04 1.07868902e-04\n",
      "  1.25259161e-04 1.18027507e-04 1.35749578e-04 1.64180994e-04\n",
      "  1.50740147e-04 1.66803598e-04 1.14108967e-04 1.19593038e-04\n",
      "  1.96486712e-04 8.23449445e-05 1.69217587e-04 2.15023756e-04\n",
      "  1.41292810e-04 1.41322613e-04 1.70916319e-04 1.96486712e-04\n",
      "  2.10791826e-04 1.35749578e-04 1.29163265e-04 1.15690353e-04\n",
      "  1.65820122e-04 1.65790319e-04 1.22844300e-04 1.50024891e-04\n",
      "  1.20941731e-04 2.15947628e-04 1.46150589e-04 1.13675800e-04\n",
      "  1.63704157e-04 1.92314386e-04 2.11536884e-04 4.12583351e-04\n",
      "  2.98619270e-04 3.37928534e-04 2.92688608e-04 2.24381685e-04\n",
      "  4.40567732e-04 2.70158052e-04 1.85757875e-04 3.01688910e-04\n",
      "  2.65449286e-04 9.91469569e-05 1.40756369e-04 1.83463097e-04\n",
      "  1.57773495e-04 1.24067068e-04 1.04680919e-04 1.34527683e-04\n",
      "  1.22844300e-04 7.83289215e-05 1.57296658e-04 1.71065331e-04\n",
      "  1.72644854e-04 9.85809747e-05 1.71959400e-04 3.78876925e-04\n",
      "  2.20924616e-04 1.65104866e-04 1.60276890e-04 9.79033066e-05\n",
      "  8.93822071e-05 1.63167715e-04 2.77847052e-04 2.37733126e-04\n",
      "  2.86757946e-04 2.66373158e-04 6.30263312e-05 4.51107662e-05\n",
      "  3.28213173e-05 1.09239976e-04 2.77787447e-04 1.47312880e-04\n",
      "  1.84118748e-04 1.05845087e-04 1.21621830e-04 1.42723322e-04\n",
      "  1.59323215e-04 1.79588795e-04 2.02208757e-04 2.11417675e-04\n",
      "  1.36792660e-04 1.63346529e-04 2.82943249e-04 1.04075400e-04\n",
      "  6.55982294e-05 1.68591738e-04 1.75684690e-04 2.96443701e-04\n",
      "  3.49491835e-04 1.18175149e-03 9.47833061e-04 1.12619996e-03\n",
      "  1.78864598e-03 9.45985317e-04 1.08760595e-03 5.07175922e-04\n",
      "  1.43498182e-04 1.58607960e-04 2.11179256e-04 3.35425138e-04\n",
      "  2.62379646e-04 2.26527452e-04 8.63025198e-05 1.38550997e-04\n",
      "  2.37643719e-04 2.08854675e-04 1.41888857e-04 1.50918961e-04\n",
      "  2.33530998e-04 6.86198473e-04 5.95152378e-04 5.79774380e-04\n",
      "  4.42802906e-04 8.76337290e-04 1.55925751e-03 3.21784616e-03\n",
      "  3.76033783e-03 7.88137317e-03 2.13529170e-02 5.81859648e-02\n",
      "  4.14452255e-02 1.97549164e-02 1.91928446e-02 8.53839517e-03\n",
      "  2.18722224e-03 1.97851658e-03 3.12206149e-03 4.52440977e-03\n",
      "  1.69003010e-03 4.75496054e-04 1.25676394e-04 1.12911497e-04\n",
      "  2.54869461e-04 1.50024891e-04 2.80380249e-04 3.27885151e-04\n",
      "  5.89787960e-04 5.44250011e-04 1.15647912e-03 5.26905060e-03\n",
      "  8.37659836e-03 1.29459202e-02 6.04752302e-02 6.97268844e-02\n",
      "  3.91281664e-01 6.61941767e-01 8.07901561e-01 8.53737831e-01\n",
      "  7.78009415e-01 7.00342357e-01 4.67214108e-01 2.09283799e-01\n",
      "  1.40934259e-01 7.32059181e-02 3.52505445e-02 6.85995817e-03\n",
      "  2.78559327e-03 9.34660435e-04 2.64674425e-04 1.52289867e-04\n",
      "  1.07868902e-04 1.68353319e-04 1.53213739e-04 5.51521778e-04\n",
      "  1.78655982e-03 1.94135308e-03 6.15978241e-03 1.19587481e-02\n",
      "  1.86510682e-02 1.94535881e-01 6.49095118e-01 8.16264272e-01\n",
      "  9.39554870e-01 9.76199090e-01 9.64333117e-01 9.58674908e-01\n",
      "  9.38338280e-01 9.33214664e-01 8.82574677e-01 8.17984700e-01\n",
      "  6.97712779e-01 2.60923386e-01 6.60022199e-02 3.25520039e-02\n",
      "  4.57048416e-03 1.17859244e-03 7.75307417e-04 1.54703856e-04\n",
      "  2.54034996e-04 1.40041113e-04 4.12493944e-04 1.29303336e-03\n",
      "  4.12985682e-03 6.59301877e-03 8.84094834e-03 4.56732213e-02\n",
      "  1.57861888e-01 3.83201867e-01 7.32272625e-01 9.12208915e-01\n",
      "  9.60179448e-01 9.16011214e-01 7.21092939e-01 8.27533424e-01\n",
      "  5.22908807e-01 5.42051673e-01 7.46871769e-01 9.18501794e-01\n",
      "  9.45250034e-01 4.49046820e-01 1.14220411e-01 1.45037770e-02\n",
      "  1.84193254e-03 3.51160765e-04 4.17441130e-04 1.51604414e-04\n",
      "  1.91926956e-04 2.16394663e-04 4.75853682e-04 1.32191181e-03\n",
      "  5.53944707e-03 1.80399120e-02 2.35297680e-02 1.42523915e-01\n",
      "  1.67089224e-01 5.20724714e-01 7.76944160e-01 7.29285777e-01\n",
      "  5.44030309e-01 2.64406264e-01 1.28759980e-01 6.39154315e-02\n",
      "  3.52836251e-02 7.26621151e-02 2.95499563e-01 8.90867770e-01\n",
      "  9.38922882e-01 5.96570671e-01 1.21246874e-01 6.94522262e-03\n",
      "  1.29017234e-03 3.91960144e-04 3.09228897e-04 1.75237656e-04\n",
      "  1.59621239e-04 1.18802993e-04 1.82420015e-04 1.16315484e-03\n",
      "  2.87368894e-03 1.33359134e-02 2.11273730e-02 8.99889469e-02\n",
      "  2.11050242e-01 2.45989710e-01 2.42488325e-01 3.23899090e-01\n",
      "  8.31000209e-02 1.85974538e-02 4.71216440e-03 4.43145633e-03\n",
      "  4.96280193e-03 4.64612544e-02 2.28816003e-01 8.36814642e-01\n",
      "  9.03275251e-01 7.65911222e-01 1.51252747e-01 9.11077857e-03\n",
      "  2.64456868e-03 5.66810369e-04 4.83393669e-04 1.10493515e-04\n",
      "  1.71512365e-04 1.42514706e-04 3.18855047e-04 6.76900148e-04\n",
      "  2.34934688e-03 5.31262159e-03 1.31152868e-02 4.31436300e-02\n",
      "  3.85551751e-02 2.98192799e-02 1.07360452e-01 2.55286098e-02\n",
      "  8.46812129e-03 4.35686111e-03 3.25939059e-03 7.91907310e-03\n",
      "  3.46772969e-02 2.96709120e-01 8.15600932e-01 9.31604862e-01\n",
      "  8.40487123e-01 4.10793066e-01 8.84932876e-02 9.44316387e-03\n",
      "  2.17363238e-03 5.57214022e-04 3.48776579e-04 1.46180391e-04\n",
      "  1.60604715e-04 1.73598528e-04 2.75522470e-04 5.78284264e-04\n",
      "  2.40069628e-03 6.76637888e-03 8.50319862e-03 6.54631853e-03\n",
      "  1.11094415e-02 8.26811790e-03 1.20851696e-02 7.97024369e-03\n",
      "  1.68879628e-02 1.70195103e-02 1.06638640e-01 2.20456392e-01\n",
      "  5.31571567e-01 8.43107462e-01 8.95601273e-01 7.24745095e-01\n",
      "  4.38499749e-01 7.64561892e-02 1.95772350e-02 4.47651744e-03\n",
      "  1.88913941e-03 7.36176968e-04 1.94102526e-04 9.25492786e-05\n",
      "  2.46852636e-04 2.56210566e-04 4.44471836e-04 3.37630510e-04\n",
      "  7.45892525e-04 4.08357382e-03 5.20437956e-03 4.06965613e-03\n",
      "  2.31832266e-03 5.62766194e-03 6.81644678e-03 1.95544362e-02\n",
      "  1.08559459e-01 5.61935484e-01 8.00501287e-01 8.70295882e-01\n",
      "  8.87350440e-01 9.01144803e-01 7.13246703e-01 3.55970144e-01\n",
      "  4.48634028e-02 1.73809230e-02 1.20392740e-02 1.63820386e-03\n",
      "  6.84946775e-04 4.01675701e-04 2.26497650e-04 1.26957893e-04\n",
      "  1.48236752e-04 1.53541565e-04 3.48418951e-04 3.58283520e-04\n",
      "  9.77933407e-04 3.02624702e-03 2.43255496e-03 1.70466304e-03\n",
      "  1.35710835e-03 3.32692266e-03 3.21160555e-02 1.74449593e-01\n",
      "  7.20966816e-01 9.71808791e-01 9.84000921e-01 9.67672288e-01\n",
      "  9.35106397e-01 8.24558318e-01 4.58705872e-01 1.41284883e-01\n",
      "  1.13123655e-02 4.16702032e-03 3.13258171e-03 1.52420998e-03\n",
      "  3.60906124e-04 4.66257334e-04 1.80035830e-04 9.60397301e-05\n",
      "  1.59025192e-04 1.57505274e-04 1.44690275e-04 3.31342220e-04\n",
      "  8.45581293e-04 1.97112560e-03 9.28610563e-04 2.23612785e-03\n",
      "  1.80634856e-03 1.06935501e-02 1.18184656e-01 5.82928956e-01\n",
      "  8.78512681e-01 9.69085634e-01 9.67821598e-01 9.35648978e-01\n",
      "  8.47067416e-01 7.06902623e-01 2.53691196e-01 4.69365716e-02\n",
      "  1.00281537e-02 2.68474221e-03 1.64562464e-03 6.78092241e-04\n",
      "  1.69932842e-04 2.82764435e-04 2.02715397e-04 1.06841704e-04\n",
      "  1.69336796e-04 1.70022249e-04 3.39120626e-04 8.31842422e-04\n",
      "  3.32775712e-03 1.81561708e-03 9.05871391e-04 1.13028288e-03\n",
      "  2.04387307e-03 8.63599777e-03 9.21375751e-02 2.79385686e-01\n",
      "  6.56944931e-01 6.90358520e-01 4.64664221e-01 5.46730638e-01\n",
      "  5.76088130e-01 6.30735874e-01 2.32747048e-01 3.11583877e-02\n",
      "  7.23367929e-03 1.40908360e-03 6.60091639e-04 3.72976065e-04\n",
      "  1.70588493e-04 1.41203403e-04 2.69711018e-04 1.04087514e-04\n",
      "  2.40653753e-04 1.49220228e-04 4.68879938e-04 1.63906813e-03\n",
      "  6.62294030e-03 1.68097019e-03 5.82545996e-03 1.66839361e-03\n",
      "  2.37670541e-03 7.03233480e-03 3.27847302e-02 4.88587320e-02\n",
      "  5.08907735e-02 5.09455800e-02 5.04570007e-02 7.53318965e-02\n",
      "  4.01898563e-01 3.87357444e-01 4.19386506e-01 5.03880382e-02\n",
      "  2.12067962e-02 5.12182713e-03 2.38236785e-03 1.94221735e-04\n",
      "  1.76787376e-04 1.35958195e-04 2.13623047e-04 1.44034624e-04\n",
      "  1.48534775e-04 1.52379274e-04 5.51730394e-04 3.95894051e-03\n",
      "  3.88514698e-02 1.82592273e-02 2.10954249e-02 5.57014346e-03\n",
      "  3.55717540e-03 9.76428390e-03 6.50528073e-03 1.65004730e-02\n",
      "  1.53958499e-02 1.70025527e-02 1.29118860e-02 3.21172178e-02\n",
      "  1.02781683e-01 4.89421546e-01 6.67924285e-01 2.57618666e-01\n",
      "  5.28553128e-02 1.42466426e-02 1.53645873e-03 3.99380922e-04\n",
      "  2.05487013e-04 1.14378185e-04 2.21103430e-04 2.33262777e-04\n",
      "  1.60068274e-04 1.79976225e-04 1.31037831e-03 3.42615843e-02\n",
      "  1.00794673e-01 4.97532189e-02 1.85109973e-02 1.49168670e-02\n",
      "  9.67577100e-03 9.00143385e-03 1.04619563e-02 4.74742055e-03\n",
      "  1.27077699e-02 1.74759924e-02 1.79652572e-02 1.66071951e-02\n",
      "  1.04404002e-01 7.74187446e-01 7.92796731e-01 6.77805424e-01\n",
      "  9.83724296e-02 1.18458569e-02 2.88957357e-03 5.87224960e-04\n",
      "  3.26305628e-04 3.87430191e-04 2.55018473e-04 2.31444836e-04\n",
      "  1.86532736e-04 1.95026398e-04 3.34954262e-03 5.68931401e-02\n",
      "  3.35790068e-01 2.43194997e-01 1.05334520e-01 7.22049773e-02\n",
      "  3.34724188e-02 2.76927054e-02 4.53279614e-02 3.04266512e-02\n",
      "  5.33784926e-02 7.66333640e-02 2.46517956e-02 3.40155959e-02\n",
      "  2.56910443e-01 7.79190540e-01 8.68788838e-01 4.93827075e-01\n",
      "  6.51964247e-02 1.06888115e-02 6.86764717e-04 5.02288342e-04\n",
      "  1.06766820e-03 6.03497028e-04 2.98321247e-04 2.07155943e-04\n",
      "  1.30474567e-04 2.52187252e-04 3.69837880e-03 1.23161495e-01\n",
      "  3.59159052e-01 2.92758226e-01 3.38428736e-01 3.35320652e-01\n",
      "  1.96729004e-01 1.99941128e-01 1.74852669e-01 1.22768015e-01\n",
      "  1.10231251e-01 6.37616217e-02 3.93075943e-02 2.37956136e-01\n",
      "  3.79407823e-01 6.68636382e-01 6.82926893e-01 3.13101768e-01\n",
      "  1.83411837e-02 2.84773111e-03 1.01700425e-03 8.84681940e-04\n",
      "  2.49382854e-03 7.71760941e-04 6.01410866e-04 1.76012516e-04\n",
      "  1.55419111e-04 1.78754330e-04 3.51130962e-03 1.26173705e-01\n",
      "  3.60777497e-01 5.43475568e-01 6.30137444e-01 5.66200376e-01\n",
      "  5.21526694e-01 1.83763891e-01 3.16011369e-01 2.67755330e-01\n",
      "  2.01005459e-01 1.25227898e-01 1.94931358e-01 1.43294930e-01\n",
      "  5.40521622e-01 6.50925875e-01 2.73198754e-01 4.05721366e-02\n",
      "  7.82665610e-03 1.29514933e-03 6.57826662e-04 1.80283189e-03\n",
      "  2.00086832e-03 1.02707744e-03 3.57538462e-04 2.23428011e-04\n",
      "  1.33693218e-04 1.94787979e-04 2.56928802e-03 2.81822085e-02\n",
      "  4.50981110e-01 5.67242265e-01 7.63654351e-01 8.62650275e-01\n",
      "  5.50130069e-01 4.05740589e-01 4.18742955e-01 4.81850833e-01\n",
      "  3.83863121e-01 3.22231203e-01 2.49776602e-01 2.84700841e-01\n",
      "  3.70730400e-01 2.20483810e-01 1.06880248e-01 2.16012299e-02\n",
      "  5.77467680e-03 1.27598643e-03 1.13144517e-03 2.30386853e-03\n",
      "  1.33377314e-03 7.04020262e-04 7.71189516e-05 1.46180391e-04\n",
      "  1.01587255e-04 1.86920166e-04 4.61369753e-04 1.07416511e-02\n",
      "  1.58470690e-01 5.78036368e-01 8.60349596e-01 9.05345201e-01\n",
      "  7.61188745e-01 6.78812265e-01 6.29251361e-01 6.21671438e-01\n",
      "  4.69822884e-01 4.99311924e-01 4.42850381e-01 3.95377845e-01\n",
      "  1.27918959e-01 5.35416901e-02 3.43501866e-02 1.48070157e-02\n",
      "  4.97072935e-03 1.32474303e-03 6.35355711e-04 6.73800707e-04\n",
      "  5.67734241e-04 2.22682953e-04 2.14606524e-04 1.79648399e-04\n",
      "  1.83254480e-04 1.27881765e-04 2.38329172e-04 1.46737695e-03\n",
      "  1.80826783e-02 1.41378552e-01 3.87527764e-01 5.23037374e-01\n",
      "  6.57625020e-01 6.13942444e-01 3.56862992e-01 3.35341960e-01\n",
      "  1.98223293e-01 6.10933900e-02 5.73782027e-02 4.00795043e-02\n",
      "  4.70950902e-02 2.45716870e-02 1.19875968e-02 7.05397129e-03\n",
      "  1.12539530e-03 5.54710627e-04 4.24176455e-04 2.30520964e-04\n",
      "  4.03612852e-04 1.97052956e-04 1.08714099e-04 1.26630068e-04\n",
      "  1.50024891e-04 1.08953027e-04 1.29669905e-04 1.64002180e-04\n",
      "  4.44859266e-04 1.32316351e-03 4.31597233e-03 2.31043696e-02\n",
      "  3.54812443e-02 2.15242505e-02 1.69878602e-02 1.54633820e-02\n",
      "  6.97493553e-03 5.60501218e-03 4.68289852e-03 9.19231772e-03\n",
      "  5.74618578e-03 2.23776698e-03 1.93712115e-03 7.25626945e-04\n",
      "  2.03669071e-04 3.04073095e-04 2.20686197e-04 1.99317932e-04\n",
      "  1.66326761e-04 2.10195780e-04 1.18337906e-04 1.26630068e-04\n",
      "  1.54584646e-04 1.45584345e-04 1.13399481e-04 1.71035528e-04\n",
      "  1.81436539e-04 4.94122505e-04 6.34163618e-04 8.72552395e-04\n",
      "  9.45776701e-04 5.94973564e-04 6.42925501e-04 2.90572643e-04\n",
      "  2.49117613e-04 1.07372151e-04 7.65775039e-05 1.72674656e-04\n",
      "  1.79588795e-04 2.07394361e-04 2.86906958e-04 2.83837318e-04\n",
      "  1.98066235e-04 2.22712755e-04 8.77633865e-05 1.58786774e-04\n",
      "  1.05563129e-04 1.17851596e-04 1.76101923e-04 2.15023756e-04\n",
      "  1.13399583e-04 1.51574612e-04 1.54584646e-04 1.79648399e-04\n",
      "  1.28597021e-04 1.33752823e-04 2.27987766e-04 1.73002481e-04\n",
      "  4.26322222e-04 3.55482101e-04 4.96476889e-04 3.97413969e-04\n",
      "  2.53260136e-04 2.16513872e-04 1.66922808e-04 2.19583511e-04\n",
      "  3.37779522e-04 3.89456749e-04 3.10748816e-04 9.04538465e-05\n",
      "  1.05629399e-04 1.26093626e-04 3.82542610e-04 1.42514706e-04\n",
      "  1.11154077e-04 1.41292810e-04 1.72585249e-04 1.57773495e-04]], shape=(1, 784), dtype=float32)\n"
     ]
    }
   ],
   "source": [
    "hh0_p = tf.nn.sigmoid(tf.matmul(sample_case, W) + hb)\n",
    "hh0_s = tf.round(hh0_p)\n",
    "\n",
    "print(\"Probability nodes in hidden layer:\" ,hh0_p)\n",
    "print(\"activated nodes in hidden layer:\" ,hh0_s)\n",
    "\n",
    "# reconstruct\n",
    "vv1_p = tf.nn.sigmoid(tf.matmul(hh0_s, tf.transpose(W)) + vb)\n",
    "\n",
    "print(vv1_p)\n",
    "#rec_prob = sess.run(vv1_p, feed_dict={ hh0_s: hh0_s_val, W: prv_w, vb: prv_vb})"
   ]
  },
  {
   "cell_type": "markdown",
   "metadata": {},
   "source": [
    "Here we plot the reconstructed image:\n"
   ]
  },
  {
   "cell_type": "code",
   "execution_count": 38,
   "metadata": {
    "tags": []
   },
   "outputs": [
    {
     "ename": "NameError",
     "evalue": "name 'tile_raster_images' is not defined",
     "output_type": "error",
     "traceback": [
      "\u001b[0;31m---------------------------------------------------------------------------\u001b[0m",
      "\u001b[0;31mNameError\u001b[0m                                 Traceback (most recent call last)",
      "\u001b[0;32m/tmp/ipykernel_68/3803996827.py\u001b[0m in \u001b[0;36m<module>\u001b[0;34m\u001b[0m\n\u001b[0;32m----> 1\u001b[0;31m \u001b[0mimg\u001b[0m \u001b[0;34m=\u001b[0m \u001b[0mImage\u001b[0m\u001b[0;34m.\u001b[0m\u001b[0mfromarray\u001b[0m\u001b[0;34m(\u001b[0m\u001b[0mtile_raster_images\u001b[0m\u001b[0;34m(\u001b[0m\u001b[0mX\u001b[0m\u001b[0;34m=\u001b[0m\u001b[0mvv1_p\u001b[0m\u001b[0;34m.\u001b[0m\u001b[0mnumpy\u001b[0m\u001b[0;34m(\u001b[0m\u001b[0;34m)\u001b[0m\u001b[0;34m,\u001b[0m \u001b[0mimg_shape\u001b[0m\u001b[0;34m=\u001b[0m\u001b[0;34m(\u001b[0m\u001b[0;36m28\u001b[0m\u001b[0;34m,\u001b[0m \u001b[0;36m28\u001b[0m\u001b[0;34m)\u001b[0m\u001b[0;34m,\u001b[0m\u001b[0mtile_shape\u001b[0m\u001b[0;34m=\u001b[0m\u001b[0;34m(\u001b[0m\u001b[0;36m1\u001b[0m\u001b[0;34m,\u001b[0m \u001b[0;36m1\u001b[0m\u001b[0;34m)\u001b[0m\u001b[0;34m,\u001b[0m \u001b[0mtile_spacing\u001b[0m\u001b[0;34m=\u001b[0m\u001b[0;34m(\u001b[0m\u001b[0;36m1\u001b[0m\u001b[0;34m,\u001b[0m \u001b[0;36m1\u001b[0m\u001b[0;34m)\u001b[0m\u001b[0;34m)\u001b[0m\u001b[0;34m)\u001b[0m\u001b[0;34m\u001b[0m\u001b[0;34m\u001b[0m\u001b[0m\n\u001b[0m\u001b[1;32m      2\u001b[0m \u001b[0mplt\u001b[0m\u001b[0;34m.\u001b[0m\u001b[0mrcParams\u001b[0m\u001b[0;34m[\u001b[0m\u001b[0;34m'figure.figsize'\u001b[0m\u001b[0;34m]\u001b[0m \u001b[0;34m=\u001b[0m \u001b[0;34m(\u001b[0m\u001b[0;36m4.0\u001b[0m\u001b[0;34m,\u001b[0m \u001b[0;36m4.0\u001b[0m\u001b[0;34m)\u001b[0m\u001b[0;34m\u001b[0m\u001b[0;34m\u001b[0m\u001b[0m\n\u001b[1;32m      3\u001b[0m \u001b[0mimgplot\u001b[0m \u001b[0;34m=\u001b[0m \u001b[0mplt\u001b[0m\u001b[0;34m.\u001b[0m\u001b[0mimshow\u001b[0m\u001b[0;34m(\u001b[0m\u001b[0mimg\u001b[0m\u001b[0;34m)\u001b[0m\u001b[0;34m\u001b[0m\u001b[0;34m\u001b[0m\u001b[0m\n\u001b[1;32m      4\u001b[0m \u001b[0mimgplot\u001b[0m\u001b[0;34m.\u001b[0m\u001b[0mset_cmap\u001b[0m\u001b[0;34m(\u001b[0m\u001b[0;34m'gray'\u001b[0m\u001b[0;34m)\u001b[0m\u001b[0;34m\u001b[0m\u001b[0;34m\u001b[0m\u001b[0m\n",
      "\u001b[0;31mNameError\u001b[0m: name 'tile_raster_images' is not defined"
     ]
    }
   ],
   "source": [
    "img = Image.fromarray(tile_raster_images(X=vv1_p.numpy(), img_shape=(28, 28),tile_shape=(1, 1), tile_spacing=(1, 1)))\n",
    "plt.rcParams['figure.figsize'] = (4.0, 4.0)\n",
    "imgplot = plt.imshow(img)\n",
    "imgplot.set_cmap('gray') "
   ]
  },
  {
   "cell_type": "markdown",
   "metadata": {},
   "source": [
    "<hr>\n",
    "\n",
    "## Want to learn more?\n",
    "\n",
    "Also, you can use __Watson Studio__ to run these notebooks faster with bigger datasets.__Watson Studio__ is IBM’s leading cloud solution for data scientists, built by data scientists. With Jupyter notebooks, RStudio, Apache Spark and popular libraries pre-packaged in the cloud, __Watson Studio__ enables data scientists to collaborate on their projects without having to install anything. Join the fast-growing community of __Watson Studio__ users today with a free account at [Watson Studio](https://cocl.us/ML0120EN_DSX).This is the end of this lesson. Thank you for reading this notebook, and good luck on your studies.\n"
   ]
  },
  {
   "cell_type": "markdown",
   "metadata": {},
   "source": [
    "### Thanks for completing this lesson!\n",
    "\n",
    "Notebook created by: <a href = \"https://ca.linkedin.com/in/saeedaghabozorgi?utm_medium=Exinfluencer&utm_source=Exinfluencer&utm_content=000026UJ&utm_term=10006555&utm_id=NA-SkillsNetwork-Channel-SkillsNetworkCoursesIBMDeveloperSkillsNetworkDL0120ENSkillsNetwork954-2022-01-01\">Saeed Aghabozorgi</a>\n",
    "\n",
    "Updated to TF 2.X by  <a href=\"https://ca.linkedin.com/in/nilmeier?utm_medium=Exinfluencer&utm_source=Exinfluencer&utm_content=000026UJ&utm_term=10006555&utm_id=NA-SkillsNetwork-Channel-SkillsNetworkCoursesIBMDeveloperSkillsNetworkDL0120ENSkillsNetwork954-2022-01-01\"> Jerome Nilmeier</a><br />\n"
   ]
  },
  {
   "cell_type": "markdown",
   "metadata": {},
   "source": [
    "### References:\n",
    "https://en.wikipedia.org/wiki/Restricted_Boltzmann_machine  \n",
    "http://deeplearning.net/tutorial/rbm.html  \n",
    "http://www.cs.utoronto.ca/~hinton/absps/netflixICML.pdf<br>\n",
    "http://imonad.com/rbm/restricted-boltzmann-machine/  \n"
   ]
  },
  {
   "cell_type": "markdown",
   "metadata": {},
   "source": [
    "<hr>\n",
    "\n",
    "Copyright &copy; 2018 [Cognitive Class](https://cocl.us/DX0108EN_CC). This notebook and its source code are released under the terms of the [MIT License](https://bigdatauniversity.com/mit-license/?utm_medium=Exinfluencer&utm_source=Exinfluencer&utm_content=000026UJ&utm_term=10006555&utm_id=NA-SkillsNetwork-Channel-SkillsNetworkCoursesIBMDeveloperSkillsNetworkDL0120ENSkillsNetwork954-2022-01-01).\n"
   ]
  }
 ],
 "metadata": {
  "kernelspec": {
   "display_name": "Python",
   "language": "python",
   "name": "conda-env-python-py"
  },
  "language_info": {
   "codemirror_mode": {
    "name": "ipython",
    "version": 3
   },
   "file_extension": ".py",
   "mimetype": "text/x-python",
   "name": "python",
   "nbconvert_exporter": "python",
   "pygments_lexer": "ipython3",
   "version": "3.7.12"
  }
 },
 "nbformat": 4,
 "nbformat_minor": 4
}
